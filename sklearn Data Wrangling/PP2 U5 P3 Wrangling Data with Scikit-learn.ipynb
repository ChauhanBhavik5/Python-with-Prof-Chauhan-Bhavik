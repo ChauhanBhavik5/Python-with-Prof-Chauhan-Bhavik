{
 "cells": [
  {
   "cell_type": "markdown",
   "id": "0da5b7d8",
   "metadata": {},
   "source": [
    "# Wrangling Data with Scikit-learn\n",
    "\n",
    "## Working with Deterministic Selection\n",
    "\n",
    "### 1) What Does “Deterministic” Mean?\n",
    "- Deterministic means getting the same result every time when you use the same input and process.\n",
    "- In data science and machine learning, determinism is important for:\n",
    "   - **Reproducibility** → getting the same training results again and again.\n",
    "   - **Debugging** → ensuring consistent behavior.\n",
    "   - **Fair comparison** → same splits, same random choices.\n",
    "\n",
    "**Example:**\n",
    "- If you shuffle data or split into training/testing sets, the split should stay the same every time you rerun the code."
   ]
  },
  {
   "cell_type": "markdown",
   "id": "1a4d3346",
   "metadata": {},
   "source": [
    "#### Random vs Deterministic Behavior\n",
    "\n",
    "| Aspect   | Random                              | Deterministic                        |\n",
    "| -------- | ----------------------------------- | ------------------------------------ |\n",
    "| Output   | Changes on each run                 | Always same output                   |\n",
    "| Use case | For exploration, randomness testing | For production, reproducible results |\n",
    "| Example  | `random.shuffle()` without seed     | `random.shuffle()` with fixed seed   |\n"
   ]
  },
  {
   "cell_type": "markdown",
   "id": "0e6b94d4",
   "metadata": {},
   "source": [
    "### 2) Random vs Deterministic Splits"
   ]
  },
  {
   "cell_type": "code",
   "execution_count": 8,
   "id": "cd7ced73",
   "metadata": {},
   "outputs": [
    {
     "name": "stdout",
     "output_type": "stream",
     "text": [
      "Random Split: [0 1 4] [3 2]\n",
      "Deterministic Split: [2 0 3] [1 4]\n"
     ]
    }
   ],
   "source": [
    "from sklearn.model_selection import train_test_split\n",
    "import numpy as np\n",
    "\n",
    "X = np.arange(10).reshape((5, 2))\n",
    "y = np.array([0, 1, 2, 3, 4])\n",
    "\n",
    "# Random Split (different each time)\n",
    "X_train, X_test, y_train, y_test = train_test_split(X, y)\n",
    "print(\"Random Split:\", y_train, y_test)\n",
    "\n",
    "# Deterministic Split (using random_state)\n",
    "X_train, X_test, y_train, y_test = train_test_split(X, y, random_state=42)\n",
    "print(\"Deterministic Split:\", y_train, y_test)"
   ]
  },
  {
   "cell_type": "code",
   "execution_count": 9,
   "id": "f6301f7a",
   "metadata": {},
   "outputs": [
    {
     "name": "stdout",
     "output_type": "stream",
     "text": [
      "Random Split: [3 1 0] [2 4]\n",
      "Deterministic Split: [2 0 3] [1 4]\n"
     ]
    }
   ],
   "source": [
    "from sklearn.model_selection import train_test_split\n",
    "import numpy as np\n",
    "\n",
    "X = np.arange(10).reshape((5, 2))\n",
    "y = np.array([0, 1, 2, 3, 4])\n",
    "\n",
    "# Random Split (different each time)\n",
    "X_train, X_test, y_train, y_test = train_test_split(X, y)\n",
    "print(\"Random Split:\", y_train, y_test)\n",
    "\n",
    "# Deterministic Split (using random_state)\n",
    "X_train, X_test, y_train, y_test = train_test_split(X, y, random_state=42)\n",
    "print(\"Deterministic Split:\", y_train, y_test)"
   ]
  },
  {
   "cell_type": "markdown",
   "id": "e9d89947",
   "metadata": {},
   "source": [
    "- Without random_state, results differ each time.\n",
    "- With random_state=42 (or any fixed value), results stay the same every time you run it."
   ]
  },
  {
   "cell_type": "markdown",
   "id": "3e511390",
   "metadata": {},
   "source": [
    "### 3) Deterministic Selection in Hashing\n",
    "\n",
    "In the hashing trick, determinism ensures that:\n",
    "- The same word always maps to the same hashed feature (bucket).\n",
    "- Ensures consistent preprocessing across training & testing.\n",
    "\n",
    "- Example:\n",
    "    - If the word \"apple\" is hashed to index 3 in training data,\n",
    "    - it must also go to index 3 in testing data → deterministic mapping."
   ]
  },
  {
   "cell_type": "markdown",
   "id": "61808653",
   "metadata": {},
   "source": [
    "#### What Happens in the Hashing Trick?\n",
    "\n",
    "In the hashing trick, each feature (like a word, token, or value) is converted into a numerical index using a hash function.\n",
    "\n",
    "Example:\n",
    "- hash(\"apple\") → some integer → bucket 3\n",
    "- hash(\"banana\") → some integer → bucket 7"
   ]
  },
  {
   "cell_type": "code",
   "execution_count": 14,
   "id": "9d4a4ef1",
   "metadata": {},
   "outputs": [
    {
     "name": "stdout",
     "output_type": "stream",
     "text": [
      "-8840528395652088597\n",
      "-4358372444463375106\n"
     ]
    }
   ],
   "source": [
    "print(hash(\"apple\"))\n",
    "print(hash(\"banana\"))"
   ]
  },
  {
   "cell_type": "markdown",
   "id": "5d2ddee7",
   "metadata": {},
   "source": [
    "#### Problem Without Determinism\n",
    "\n",
    "- If the hash function gave different outputs each time, then:\n",
    "\n",
    "    - During training, \"apple\" might map to index 3,\n",
    "    - But during testing, \"apple\" might map to index 5 instead!\n",
    "\n",
    "- This means the model will treat the same feature as a completely different one, leading to:\n",
    "\n",
    "    - Wrong feature alignment,\n",
    "    - Decreased accuracy,\n",
    "    - Inconsistent results (non-reproducible behavior)."
   ]
  },
  {
   "cell_type": "markdown",
   "id": "e0c6d6ca",
   "metadata": {},
   "source": [
    "#### Solution: Deterministic Hashing\n",
    "\n",
    "A deterministic hash function always produces the same output for the same input.\n",
    "\n",
    "That means:\n",
    "- hash(\"apple\") → always gives the same index (say 3)\n",
    "\n",
    "- So:\n",
    "    - Both training and testing phases interpret \"apple\" as the same feature.\n",
    "    - The feature representation remains **stable** and **consistent**."
   ]
  },
  {
   "cell_type": "markdown",
   "id": "09f880b6",
   "metadata": {},
   "source": [
    "#### Example\n",
    "- Scikit-learn’s HashingVectorizer is designed to be deterministic:\n",
    "    - It uses a non-random, fixed hashing algorithm (MurmurHash3) internally.\n",
    "    - So the same text input will always generate the same feature vector."
   ]
  },
  {
   "cell_type": "code",
   "execution_count": 15,
   "id": "8613d93d",
   "metadata": {},
   "outputs": [
    {
     "name": "stdout",
     "output_type": "stream",
     "text": [
      "[[ 0.70710678  0.          0.          0.          0.         -0.70710678\n",
      "   0.          0.          0.          0.        ]]\n",
      "[[ 0.70710678  0.          0.          0.          0.         -0.70710678\n",
      "   0.          0.          0.          0.        ]]\n"
     ]
    }
   ],
   "source": [
    "from sklearn.feature_extraction.text import HashingVectorizer\n",
    "\n",
    "vectorizer = HashingVectorizer(n_features=10)\n",
    "print(vectorizer.transform([\"apple banana\"]).toarray())\n",
    "print(vectorizer.transform([\"apple banana\"]).toarray())  # same result every time"
   ]
  },
  {
   "cell_type": "markdown",
   "id": "d63ea370",
   "metadata": {},
   "source": [
    "Both results are identical, because the hashing process is deterministic."
   ]
  },
  {
   "cell_type": "markdown",
   "id": "80641261",
   "metadata": {},
   "source": [
    "### 4) Why Determinism Matters in Machine Learning\n",
    "\n",
    "#### Reproducibility:\n",
    "- Two data scientists running the same code should get the same result.\n",
    "\n",
    "#### Consistency:\n",
    "- Your model predictions must not change randomly across runs.\n",
    "\n",
    "#### Debugging:\n",
    "- If results change every time, it’s impossible to locate errors.\n",
    "\n",
    "#### Model Deployment:\n",
    "- Production systems must behave predictably on the same input data."
   ]
  },
  {
   "cell_type": "markdown",
   "id": "6db3e452",
   "metadata": {},
   "source": [
    "### Learning:\n",
    "- Deterministic selection = same output for the same input → reproducible.\n",
    "- In Scikit-learn, use random_state to fix randomness.\n",
    "- Hashing and random splits should be deterministic for reliable ML workflows.\n",
    "    - In hashing, determinism makes sure the same input always produces the same feature representation, this keeps model training and testing consistent, accurate, and reproducible."
   ]
  },
  {
   "cell_type": "code",
   "execution_count": null,
   "id": "dbf3ef45",
   "metadata": {},
   "outputs": [],
   "source": []
  }
 ],
 "metadata": {
  "kernelspec": {
   "display_name": "Python 3 (ipykernel)",
   "language": "python",
   "name": "python3"
  },
  "language_info": {
   "codemirror_mode": {
    "name": "ipython",
    "version": 3
   },
   "file_extension": ".py",
   "mimetype": "text/x-python",
   "name": "python",
   "nbconvert_exporter": "python",
   "pygments_lexer": "ipython3",
   "version": "3.9.12"
  }
 },
 "nbformat": 4,
 "nbformat_minor": 5
}
