{
 "cells": [
  {
   "cell_type": "markdown",
   "id": "a2064b9b",
   "metadata": {},
   "source": [
    "# Threads in python 2"
   ]
  },
  {
   "cell_type": "markdown",
   "id": "1679121a",
   "metadata": {},
   "source": [
    "## Module 2: Types of Threads in Python\n",
    "AIM: To study and implement different types of threads in Python."
   ]
  },
  {
   "cell_type": "markdown",
   "id": "7785a7ca",
   "metadata": {},
   "source": [
    "In Python, threads can be classified into two main types:\n",
    "\n",
    "1. User Threads (Non-daemon threads)\n",
    "\n",
    "- These are the default threads we create.\n",
    "\n",
    "- The program will wait for them to finish execution before exiting.\n",
    "\n",
    "- Example: A file download thread must complete before the program ends.\n",
    "\n",
    "2. Daemon Threads\n",
    "\n",
    "- Background threads that run until the main program ends.\n",
    "\n",
    "- They are automatically killed when the main program finishes.\n",
    "\n",
    "- Example: Garbage collection, background autosave, monitoring.\n",
    "\n",
    "***User Thread:*** A waiter in a restaurant (must complete serving customers before leaving).\n",
    "\n",
    "***Daemon Thread:*** Background cleaner (works only as long as the restaurant is open)."
   ]
  },
  {
   "cell_type": "markdown",
   "id": "430991f7",
   "metadata": {},
   "source": [
    "### Python Examples\n",
    "#### Example 1: User Thread (Non-daemon)"
   ]
  },
  {
   "cell_type": "code",
   "execution_count": 15,
   "id": "c1f9e690",
   "metadata": {},
   "outputs": [
    {
     "name": "stdout",
     "output_type": "stream",
     "text": [
      "User thread started\n",
      "Main program finished but waiting for user thread to complete...\n"
     ]
    }
   ],
   "source": [
    "import threading\n",
    "import time\n",
    "\n",
    "def user_thread():\n",
    "    print(\"User thread started\")\n",
    "    time.sleep(3)\n",
    "    print(\"User thread finished\")\n",
    "\n",
    "t = threading.Thread(target=user_thread)  # default is non-daemon\n",
    "t.start()\n",
    "print(\"Main program finished but waiting for user thread to complete...\")"
   ]
  },
  {
   "cell_type": "markdown",
   "id": "7e393bab",
   "metadata": {},
   "source": [
    "***Observe that the main program waits until the thread completes.***"
   ]
  },
  {
   "cell_type": "markdown",
   "id": "8d888cb5",
   "metadata": {},
   "source": [
    "#### Example 2: Daemon Thread"
   ]
  },
  {
   "cell_type": "code",
   "execution_count": 19,
   "id": "85c8c40e",
   "metadata": {},
   "outputs": [
    {
     "name": "stdout",
     "output_type": "stream",
     "text": [
      "Daemon thread running...\n",
      "Main program finished (Daemon thread will stop automatically)\n"
     ]
    }
   ],
   "source": [
    "import threading\n",
    "import time\n",
    "\n",
    "def daemon_thread():\n",
    "    while True:\n",
    "        print(\"Daemon thread running...\")\n",
    "        time.sleep(1)\n",
    "\n",
    "t = threading.Thread(target=daemon_thread, daemon=True)  # daemon = True\n",
    "t.start()\n",
    "\n",
    "print(\"Main program finished (Daemon thread will stop automatically)\")"
   ]
  },
  {
   "cell_type": "markdown",
   "id": "40e01285",
   "metadata": {},
   "source": [
    "***Observe that the main program ends immediately → the daemon thread stops abruptly.***"
   ]
  },
  {
   "cell_type": "markdown",
   "id": "305d69c4",
   "metadata": {},
   "source": [
    "***User threads*** run independently and must finish before the program exits.\n",
    "\n",
    "***Daemon threads*** run in the background and stop when the main program ends."
   ]
  },
  {
   "cell_type": "markdown",
   "id": "c19f47c8",
   "metadata": {},
   "source": [
    "##### Try this:\n",
    "1. Create two user threads that print numbers 1–5 with a delay of 1 sec each.\n",
    "\n",
    "2. Create a daemon thread that prints the current time every second. Show that it stops when the main program ends.\n",
    "\n",
    "3. Mix one user thread and one daemon thread in a single program. Observe how they behave."
   ]
  },
  {
   "cell_type": "code",
   "execution_count": null,
   "id": "d1db17f6",
   "metadata": {},
   "outputs": [],
   "source": []
  }
 ],
 "metadata": {
  "kernelspec": {
   "display_name": "Python 3 (ipykernel)",
   "language": "python",
   "name": "python3"
  },
  "language_info": {
   "codemirror_mode": {
    "name": "ipython",
    "version": 3
   },
   "file_extension": ".py",
   "mimetype": "text/x-python",
   "name": "python",
   "nbconvert_exporter": "python",
   "pygments_lexer": "ipython3",
   "version": "3.12.7"
  }
 },
 "nbformat": 4,
 "nbformat_minor": 5
}
