{
 "cells": [
  {
   "cell_type": "markdown",
   "id": "8a923df0-f1e9-406e-a9a1-6c9f74613e26",
   "metadata": {},
   "source": [
    "# Deadlock & Daemon Threads in Python"
   ]
  },
  {
   "cell_type": "markdown",
   "id": "50ae157e-f311-4d8a-bd29-a659b07c747c",
   "metadata": {},
   "source": [
    "## Introduction\n",
    "\n",
    "### Threading in Python:\n",
    "Threads allow multiple parts of a program to run concurrently within the same process.\n",
    "\n",
    "#### Deadlock:\n",
    "\n",
    "- A deadlock occurs when two or more threads wait indefinitely for resources locked by each other.\n",
    "- Example: Thread-1 holds Lock-A and waits for Lock-B, while Thread-2 holds Lock-B and waits for Lock-A.\n",
    "\n",
    "#### Daemon Threads:\n",
    "\n",
    "- Daemon threads run in the background and are killed automatically when the main program exits.\n",
    "- Used for background tasks like monitoring/logging.\n",
    "- Contrast: Non-daemon threads keep running until they finish, even if the main program ends."
   ]
  },
  {
   "cell_type": "markdown",
   "id": "b3adc66a-1b30-4a03-ab2e-2799a4ba4f27",
   "metadata": {},
   "source": [
    "## Demonstrating Deadlock in Python"
   ]
  },
  {
   "cell_type": "code",
   "execution_count": null,
   "id": "a62f53fb-7fdd-4821-a569-8b71a1f290ab",
   "metadata": {},
   "outputs": [
    {
     "name": "stdout",
     "output_type": "stream",
     "text": [
      "Task X acquired Lock A\n",
      "Task Y acquired Lock B\n"
     ]
    }
   ],
   "source": [
    "import threading\n",
    "import time\n",
    "\n",
    "LA = threading.Lock()\n",
    "LB = threading.Lock()\n",
    "\n",
    "def taskX():\n",
    "    with LA:\n",
    "        print(\"Task X acquired Lock A\")\n",
    "        time.sleep(1)\n",
    "        with LB:\n",
    "            print(\"Task X acquired Lock B\")\n",
    "\n",
    "def taskY():\n",
    "    with LB:\n",
    "        print(\"Task Y acquired Lock B\")\n",
    "        time.sleep(1)\n",
    "        with LA:\n",
    "            print(\"Task Y acquired Lock B\")\n",
    "\n",
    "t1 = threading.Thread(target = taskX)\n",
    "t2 = threading.Thread(target = taskY)\n",
    "\n",
    "t1.start()\n",
    "t2.start()\n",
    "\n",
    "t1.join()\n",
    "t2.join()"
   ]
  },
  {
   "cell_type": "markdown",
   "id": "e30f9f70-acc5-441d-ab7e-41e4f9be46ad",
   "metadata": {},
   "source": [
    "- Two locks are created (LA and LB) representing two shared resources.\n",
    "\n",
    "- taskX()\n",
    "    - taskX first acquires Lock A.\n",
    "    - It then waits 1 second before trying to acquire Lock B\n",
    "\n",
    "- taskX()\n",
    "    - taskY acquires Lock B first.\n",
    "    - After 1 second, it tries to acquire Lock A.\n",
    "\n",
    "### What Happens (Deadlock Scenario)\n",
    "\n",
    "1) Thread-1 (Task X) acquires Lock A.\n",
    "2) Thread-2 (Task Y) acquires Lock B.\n",
    "3) Now:\n",
    "    - Thread-1 is waiting for Lock B (held by Thread-2).\n",
    "    - Thread-2 is waiting for Lock A (held by Thread-1).\n",
    "4) Both threads are stuck forever → Deadlock."
   ]
  },
  {
   "cell_type": "markdown",
   "id": "11754b0b-dcaa-4c4f-a6e2-2640d36648f5",
   "metadata": {},
   "source": [
    "## Avoiding Deadlock (Best Practices)\n",
    "\n",
    "- Always acquire locks in the same order.\n",
    "- Use try...acquire(timeout=...) to avoid indefinite waiting."
   ]
  },
  {
   "cell_type": "markdown",
   "id": "dc9e34c4-47bf-4e7b-8bd4-d00ddf4248d9",
   "metadata": {},
   "source": [
    "**1) LA.acquire(timeout=1)**\n",
    "\n",
    "- The thread tries to acquire LA (Lock A).\n",
    "- If it cannot acquire it within 1 second, it gives up and continues execution (avoiding infinite waiting).\n",
    "\n",
    "**2) If LA is acquired**\n",
    "- The thread holds Lock A.\n",
    "- It prints a confirmation message.\n",
    "- \n",
    "**3) Wait 1 second**\n",
    "- Simulates doing some work while holding Lock A.\n",
    "\n",
    "**4) LB.acquire(timeout=1)**\n",
    "- While still holding Lock A, it tries to acquire Lock B.\n",
    "- Again, if it cannot acquire Lock B within 1 second, it gives up instead of blocking forever.\n",
    "\n",
    "**5) If Lock B is acquired**\n",
    "- Prints success message.\n",
    "- Releases Lock B immediately after finishing the work.\n",
    "\n",
    "**6) Finally releases Lock A**\n",
    "- Ensures that Lock A is freed before function exits."
   ]
  },
  {
   "cell_type": "code",
   "execution_count": null,
   "id": "b036b45a-ddc9-473e-a566-9162a063fba0",
   "metadata": {},
   "outputs": [],
   "source": [
    "def safe_task():\n",
    "    if LA.acquire(timeout=1):\n",
    "        print(\"Safe Task1 acquired Lock1\")\n",
    "        time.sleep(1)\n",
    "        if LB.acquire(timeout=1):\n",
    "            print(\"Safe Task1 acquired Lock2\")\n",
    "            LB.release()\n",
    "        LA.release()"
   ]
  },
  {
   "cell_type": "markdown",
   "id": "80ad4849-65ce-4736-83a4-c237d16fc374",
   "metadata": {},
   "source": [
    "#### Why This Prevents Deadlock\n",
    "\n",
    "In the original deadlock example:\n",
    "- Task X waits forever for Lock B.\n",
    "- Task Y waits forever for Lock A.\n",
    "\n",
    "In this safe version:\n",
    "- If Task X can’t acquire Lock B within 1 second, it gives up and releases Lock A.\n",
    "- This lets Task Y eventually acquire Lock A and proceed.\n",
    "\n",
    "So instead of freezing forever, one thread fails gracefully and the system keeps moving."
   ]
  },
  {
   "cell_type": "markdown",
   "id": "7da6d4cb-cf00-487d-9f83-26a02073432a",
   "metadata": {},
   "source": [
    "## Demonstrating Daemon Threads"
   ]
  },
  {
   "cell_type": "code",
   "execution_count": null,
   "id": "04db40f5-4e1d-43bd-9d69-63ef03faf3c9",
   "metadata": {},
   "outputs": [],
   "source": [
    "import threading\n",
    "import time\n",
    "\n",
    "def background_task():\n",
    "    while True:\n",
    "        print(\"Background task running...\")\n",
    "        time.sleep(1)\n",
    "\n",
    "# Daemon thread\n",
    "t = threading.Thread(target=background_task, daemon=True)\n",
    "t.start()\n",
    "\n",
    "print(\"Main thread finished.\")"
   ]
  },
  {
   "cell_type": "markdown",
   "id": "dfcee100-f1cf-46bd-a026-30ec2f7359e9",
   "metadata": {},
   "source": [
    "- The daemon thread keeps printing messages in the background.\n",
    "- But as soon as the main thread ends, the daemon thread also terminates automatically."
   ]
  },
  {
   "cell_type": "markdown",
   "id": "5f4689f8-def8-4faf-a452-fda1c4f2c798",
   "metadata": {},
   "source": [
    "### Real-World Applications\n",
    "\n",
    "- **Deadlock awareness:** Important in multi-threaded programs handling databases, files, or shared resources.\n",
    "- **Daemon threads:** Useful for background monitoring, logging, or scheduled tasks without blocking program termination."
   ]
  },
  {
   "cell_type": "code",
   "execution_count": null,
   "id": "6e0832c0-1deb-4bb8-b1a5-8318e33dbad8",
   "metadata": {},
   "outputs": [],
   "source": []
  }
 ],
 "metadata": {
  "kernelspec": {
   "display_name": "Python 3 (ipykernel)",
   "language": "python",
   "name": "python3"
  },
  "language_info": {
   "codemirror_mode": {
    "name": "ipython",
    "version": 3
   },
   "file_extension": ".py",
   "mimetype": "text/x-python",
   "name": "python",
   "nbconvert_exporter": "python",
   "pygments_lexer": "ipython3",
   "version": "3.12.7"
  }
 },
 "nbformat": 4,
 "nbformat_minor": 5
}
