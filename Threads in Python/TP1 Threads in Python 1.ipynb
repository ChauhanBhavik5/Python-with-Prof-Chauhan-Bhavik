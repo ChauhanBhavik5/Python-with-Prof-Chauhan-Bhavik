{
 "cells": [
  {
   "cell_type": "markdown",
   "id": "a2064b9b",
   "metadata": {},
   "source": [
    "# Threads in python 1"
   ]
  },
  {
   "cell_type": "markdown",
   "id": "9aca02a6",
   "metadata": {},
   "source": [
    "## What is Thread?"
   ]
  },
  {
   "cell_type": "markdown",
   "id": "fd250504",
   "metadata": {},
   "source": [
    "## Module 1: Difference between Process and Thread in Python\n",
    "- AIM: To understand the fundamental difference between a process and a thread in Python programming."
   ]
  },
  {
   "cell_type": "markdown",
   "id": "f1e687a8",
   "metadata": {},
   "source": [
    "### Process\n",
    "\n",
    "- A process is an independent program in execution.\n",
    "\n",
    "- Each process has its own memory space and system resources.\n",
    "\n",
    "- Example: Running Chrome, MS Word, and Python interpreter are separate processes.\n",
    "\n",
    "- Communication between processes requires Inter-Process Communication (IPC), which is costly.\n",
    "\n",
    "### Thread\n",
    "\n",
    "- A thread is the smallest unit of a process.\n",
    "\n",
    "- Multiple threads can exist inside a single process.\n",
    "\n",
    "- Threads share the same memory space but run independently.\n",
    "\n",
    "- Easier and faster to communicate compared to processes."
   ]
  },
  {
   "cell_type": "markdown",
   "id": "736c9c23",
   "metadata": {},
   "source": [
    "#### Python Examples"
   ]
  },
  {
   "cell_type": "markdown",
   "id": "ccbd0e15",
   "metadata": {},
   "source": [
    "##### Example 1: Demonstrating Processes\n",
    "\n",
    "- multiprocessing.Process() → creates a new process.\n",
    "- Each process runs independently, with its own memory space.\n",
    "- start() → begins process execution.\n",
    "- join() → waits for process to finish.\n",
    "- Processes have different PIDs, unlike threads (which share the same PID)."
   ]
  },
  {
   "cell_type": "code",
   "execution_count": 1,
   "id": "7c4a3319",
   "metadata": {},
   "outputs": [],
   "source": [
    "import multiprocessing\n",
    "import os\n",
    "\n",
    "def process_task():\n",
    "    print(f\"Process ID: {os.getpid()}\")\n",
    "\n",
    "if __name__ == \"__main__\":\n",
    "    p1 = multiprocessing.Process(target=process_task)\n",
    "    p2 = multiprocessing.Process(target=process_task)\n",
    "    \n",
    "    p1.start()\n",
    "    p2.start()\n",
    "    \n",
    "    p1.join()\n",
    "    p2.join()"
   ]
  },
  {
   "cell_type": "markdown",
   "id": "d48199d2-d26a-45fb-a916-b324fef3da36",
   "metadata": {},
   "source": [
    "- **multiprocessing** → Python module that allows us to create and manage separate processes (true parallel execution).\n",
    "- **os** → used here to get the Process ID (PID) for each process.\n",
    "\n",
    "- **def**\n",
    "    - Defines a function (process_task) that each process will run.\n",
    "    - Inside, it prints its unique process ID (assigned by the operating system).\n",
    "    - Every new process created will execute this function.\n",
    "      \n",
    "- if __name__ == \"__main__\":\n",
    "    - This is a safety check needed when using multiprocessing in Python (especially on Windows).\n",
    "    - Prevents child processes from re-running the entire script again when they are spawned.\n",
    "    - Ensures that only the code inside this block runs in the main process.\n",
    "\n",
    "- p1 = multiprocessing.Process(target=process_task)\n",
    "- p2 = multiprocessing.Process(target=process_task)\n",
    "    - Creates two process objects (p1 and p2).\n",
    "    - target=process_task → means that each process will run the process_task() function when started.\n",
    "    - At this point, processes are created but not yet running.\n",
    "\n",
    "- p1.start()\n",
    "- p2.start()\n",
    "    - Actually starts the processes.\n",
    "    - Now p1 and p2 are running in parallel, independent from the main program.\n",
    "    - Each process will run process_task() and print its own process ID.\n",
    "- p1.join()\n",
    "- p2.join()\n",
    "    - join() tells the main program: “Wait until this process finishes before continuing.”\n",
    "    - Without join(), the main program could exit before child processes complete.\n",
    "    - Ensures proper synchronization: main process waits for both p1 and p2.\n"
   ]
  },
  {
   "cell_type": "markdown",
   "id": "d931daa5",
   "metadata": {},
   "source": [
    "Each process will have a different Process ID (PID)."
   ]
  },
  {
   "cell_type": "code",
   "execution_count": 14,
   "id": "266949c8",
   "metadata": {},
   "outputs": [],
   "source": [
    "import multiprocessing\n",
    "import os\n",
    "\n",
    "def process_task(q):\n",
    "    q.put(f\"Process ID: {os.getpid()}\")\n",
    "\n",
    "if __name__ == \"__main__\":\n",
    "    q = multiprocessing.Queue()\n",
    "    \n",
    "    p1 = multiprocessing.Process(target=process_task, args=(q,))\n",
    "    p2 = multiprocessing.Process(target=process_task, args=(q,))\n",
    "    \n",
    "    p1.start()\n",
    "    p2.start()\n",
    "    \n",
    "    p1.join()\n",
    "    p2.join()\n",
    "    \n",
    "    # Read output from queue\n",
    "    while not q.empty():\n",
    "        print(q.get())"
   ]
  },
  {
   "cell_type": "markdown",
   "id": "567e2edc-ac50-446c-bb15-bdb6626e8b5c",
   "metadata": {},
   "source": [
    "- q = multiprocessing.Queue()\n",
    "    - A Queue is a safe way for multiple processes to communicate with each other.\n",
    "    - Here, we create a queue q that will be shared between the main process and the child processes.\n",
    "    - Instead of printing directly inside the process, child processes will put their results into the queue.\n",
    "- def process_task(q):\n",
    "    - Function now takes q (the queue) as an argument.\n",
    "    - Instead of print(), it uses: q.put(f\"Process ID: {os.getpid()}\")\n",
    "    - This sends a message (the process ID string) into the queue, so the main process can later retrieve it.\n",
    "- args=(q,)\n",
    "    - When creating a process, we pass the queue as an argument.\n",
    "    - (q,) is a tuple with one element → needed because args expects a tuple.\n",
    "- Reading from Queue\n",
    "    - while not q.empty():\n",
    "        - print(q.get())\n",
    "    - After both processes finish, the main process reads all results from the queue.\n",
    "    - q.get() retrieves the message one by one.\n",
    "    - Finally, the main process prints them.\n"
   ]
  },
  {
   "cell_type": "markdown",
   "id": "53915737",
   "metadata": {},
   "source": [
    "##### Example 2: Demonstrating Threads"
   ]
  },
  {
   "cell_type": "code",
   "execution_count": 22,
   "id": "75afacff",
   "metadata": {},
   "outputs": [
    {
     "name": "stdout",
     "output_type": "stream",
     "text": [
      "Thread name: Thread-5 (thread_task), Process ID: 13784\n",
      "Thread name: Thread-6 (thread_task), Process ID: 13784\n"
     ]
    }
   ],
   "source": [
    "import threading\n",
    "import os\n",
    "\n",
    "def thread_task():\n",
    "    print(f\"Thread name: {threading.current_thread().name}, Process ID: {os.getpid()}\")\n",
    "\n",
    "t1 = threading.Thread(target=thread_task)\n",
    "t2 = threading.Thread(target=thread_task)\n",
    "\n",
    "t1.start()\n",
    "t2.start()\n",
    "\n",
    "t1.join()\n",
    "t2.join()"
   ]
  },
  {
   "cell_type": "markdown",
   "id": "05ec2f83",
   "metadata": {},
   "source": [
    "Threads will have the same Process ID but different thread names."
   ]
  },
  {
   "cell_type": "markdown",
   "id": "3f7cc0a6",
   "metadata": {},
   "source": [
    "**Processes** are independent with separate memory spaces.\n",
    "\n",
    "**Threads** are lightweight, sharing memory within the same process."
   ]
  },
  {
   "cell_type": "markdown",
   "id": "219c2aa5-3433-490f-8d83-12e3368645e7",
   "metadata": {},
   "source": [
    "- **threading** → Python module for creating and managing threads.\n",
    "- **os** → still used to get the Process ID (PID).\n",
    "\n",
    "- **threading.current_thread().name** → gives the name of the current thread.\n",
    "    - By default: \"Thread-1\", \"Thread-2\", etc.\n",
    "- **os.getpid()** → still prints the process ID.\n",
    "    - Important difference: All threads in a program share the same process, so they will all have the same PID.\n",
    "\n",
    "- t1 = threading.Thread(target=thread_task)\n",
    "- t2 = threading.Thread(target=thread_task)\n",
    "    - Creates two threads (t1 and t2).\n",
    "    - Both are set to run the thread_task() function.\n",
    "    - At this point, threads are created but not yet running.\n",
    "- t1.start() & t2.start()\n",
    "    - Starts both threads.\n",
    "    - They run concurrently inside the same process.\n",
    "    - Each thread executes thread_task(), so you’ll see two outputs.\n",
    "- t1.join() & t2.join()\n",
    "    - Ensures the main program waits until both threads finish.\n",
    "\n",
    "Without join(), the main program might exit before threads complete.\n",
    "\n"
   ]
  },
  {
   "cell_type": "markdown",
   "id": "a91cc2ef",
   "metadata": {},
   "source": [
    "#### Try this:\n",
    "1. Write a program to create 3 processes and print their process IDs.\n",
    "\n",
    "2. Write a program to create 5 threads and print their thread names & process ID.\n",
    "\n",
    "3. Compare the execution time of running the same task with processes vs threads."
   ]
  },
  {
   "cell_type": "code",
   "execution_count": null,
   "id": "d1db17f6",
   "metadata": {},
   "outputs": [],
   "source": []
  }
 ],
 "metadata": {
  "kernelspec": {
   "display_name": "Python 3 (ipykernel)",
   "language": "python",
   "name": "python3"
  },
  "language_info": {
   "codemirror_mode": {
    "name": "ipython",
    "version": 3
   },
   "file_extension": ".py",
   "mimetype": "text/x-python",
   "name": "python",
   "nbconvert_exporter": "python",
   "pygments_lexer": "ipython3",
   "version": "3.12.7"
  }
 },
 "nbformat": 4,
 "nbformat_minor": 5
}
