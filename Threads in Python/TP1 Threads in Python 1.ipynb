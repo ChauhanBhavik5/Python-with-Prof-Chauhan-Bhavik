{
 "cells": [
  {
   "cell_type": "markdown",
   "id": "a2064b9b",
   "metadata": {},
   "source": [
    "# Threads in python 1"
   ]
  },
  {
   "cell_type": "markdown",
   "id": "9aca02a6",
   "metadata": {},
   "source": [
    "## What is Thread?"
   ]
  },
  {
   "cell_type": "markdown",
   "id": "fd250504",
   "metadata": {},
   "source": [
    "## Module 1: Difference between Process and Thread in Python\n",
    "- AIM: To understand the fundamental difference between a process and a thread in Python programming."
   ]
  },
  {
   "cell_type": "markdown",
   "id": "f1e687a8",
   "metadata": {},
   "source": [
    "### Process\n",
    "\n",
    "- A process is an independent program in execution.\n",
    "\n",
    "- Each process has its own memory space and system resources.\n",
    "\n",
    "- Example: Running Chrome, MS Word, and Python interpreter are separate processes.\n",
    "\n",
    "- Communication between processes requires Inter-Process Communication (IPC), which is costly.\n",
    "\n",
    "### Thread\n",
    "\n",
    "- A thread is the smallest unit of a process.\n",
    "\n",
    "- Multiple threads can exist inside a single process.\n",
    "\n",
    "- Threads share the same memory space but run independently.\n",
    "\n",
    "- Easier and faster to communicate compared to processes."
   ]
  },
  {
   "cell_type": "markdown",
   "id": "736c9c23",
   "metadata": {},
   "source": [
    "#### Python Examples"
   ]
  },
  {
   "cell_type": "markdown",
   "id": "ccbd0e15",
   "metadata": {},
   "source": [
    "##### Example 1: Demonstrating Processes"
   ]
  },
  {
   "cell_type": "code",
   "execution_count": 32,
   "id": "7c4a3319",
   "metadata": {},
   "outputs": [],
   "source": [
    "import multiprocessing\n",
    "import os\n",
    "\n",
    "def process_task():\n",
    "    print(f\"Process ID: {os.getpid()}\")\n",
    "\n",
    "if __name__ == \"__main__\":\n",
    "    p1 = multiprocessing.Process(target=process_task)\n",
    "    p2 = multiprocessing.Process(target=process_task)\n",
    "    \n",
    "    p1.start()\n",
    "    p2.start()\n",
    "    \n",
    "    p1.join()\n",
    "    p2.join()"
   ]
  },
  {
   "cell_type": "markdown",
   "id": "d931daa5",
   "metadata": {},
   "source": [
    "Each process will have a different Process ID (PID)."
   ]
  },
  {
   "cell_type": "code",
   "execution_count": 46,
   "id": "266949c8",
   "metadata": {},
   "outputs": [],
   "source": [
    "import multiprocessing\n",
    "import os\n",
    "\n",
    "def process_task(q):\n",
    "    q.put(f\"Process ID: {os.getpid()}\")\n",
    "\n",
    "if __name__ == \"__main__\":\n",
    "    q = multiprocessing.Queue()\n",
    "    \n",
    "    p1 = multiprocessing.Process(target=process_task, args=(q,))\n",
    "    p2 = multiprocessing.Process(target=process_task, args=(q,))\n",
    "    \n",
    "    p1.start()\n",
    "    p2.start()\n",
    "    \n",
    "    p1.join()\n",
    "    p2.join()\n",
    "    \n",
    "    # Read output from queue\n",
    "    while not q.empty():\n",
    "        print(q.get())"
   ]
  },
  {
   "cell_type": "markdown",
   "id": "53915737",
   "metadata": {},
   "source": [
    "##### Example 2: Demonstrating Threads"
   ]
  },
  {
   "cell_type": "code",
   "execution_count": 49,
   "id": "75afacff",
   "metadata": {},
   "outputs": [
    {
     "name": "stdout",
     "output_type": "stream",
     "text": [
      "Thread name: Thread-9 (thread_task), Process ID: 13684\n",
      "Thread name: Thread-10 (thread_task), Process ID: 13684\n"
     ]
    }
   ],
   "source": [
    "import threading\n",
    "import os\n",
    "\n",
    "def thread_task():\n",
    "    print(f\"Thread name: {threading.current_thread().name}, Process ID: {os.getpid()}\")\n",
    "\n",
    "t1 = threading.Thread(target=thread_task)\n",
    "t2 = threading.Thread(target=thread_task)\n",
    "\n",
    "t1.start()\n",
    "t2.start()\n",
    "\n",
    "t1.join()\n",
    "t2.join()\n"
   ]
  },
  {
   "cell_type": "markdown",
   "id": "05ec2f83",
   "metadata": {},
   "source": [
    "Threads will have the same Process ID but different thread names."
   ]
  },
  {
   "cell_type": "markdown",
   "id": "3f7cc0a6",
   "metadata": {},
   "source": [
    "**Processes** are independent with separate memory spaces.\n",
    "\n",
    "**Threads** are lightweight, sharing memory within the same process."
   ]
  },
  {
   "cell_type": "markdown",
   "id": "a91cc2ef",
   "metadata": {},
   "source": [
    "#### Try this:\n",
    "1. Write a program to create 3 processes and print their process IDs.\n",
    "\n",
    "2. Write a program to create 5 threads and print their thread names & process ID.\n",
    "\n",
    "3. Compare the execution time of running the same task with processes vs threads."
   ]
  },
  {
   "cell_type": "code",
   "execution_count": null,
   "id": "d1db17f6",
   "metadata": {},
   "outputs": [],
   "source": []
  }
 ],
 "metadata": {
  "kernelspec": {
   "display_name": "Python 3 (ipykernel)",
   "language": "python",
   "name": "python3"
  },
  "language_info": {
   "codemirror_mode": {
    "name": "ipython",
    "version": 3
   },
   "file_extension": ".py",
   "mimetype": "text/x-python",
   "name": "python",
   "nbconvert_exporter": "python",
   "pygments_lexer": "ipython3",
   "version": "3.12.7"
  }
 },
 "nbformat": 4,
 "nbformat_minor": 5
}
