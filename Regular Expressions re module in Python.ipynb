{
 "cells": [
  {
   "cell_type": "markdown",
   "id": "745c1763-84ed-4b8d-8940-0908b4406114",
   "metadata": {},
   "source": [
    "# Python with Prof. Chauhan Bhavik\n",
    "## Regular Expressions\n",
    "\n",
    "### Part 1: Introduction to Regular Expressions\n",
    "1) What are Regular Expressions (REs)?\n",
    "2) Why use Regular Expressions?\n",
    "3) Using Python's re module\n",
    "4) Basic regex functions with examples (match, search, findall, split, sub)\n",
    "5) Small practice exercises\n",
    "\n",
    "### Part 2: Sequence Characters in Regular Expressions\n",
    "6) What are sequence characters in regex?\n",
    "7) Common sequence characters in Python's re module\n",
    "8) Examples with explanation\n",
    "9) Practice exercises\n",
    "\n",
    "### Part 3: Quantifiers in Regular Expressions\n",
    "10) What are quantifiers in regex?\n",
    "11) Different types of quantifiers in Python\n",
    "12) Practical examples with explanation\n",
    "13) Practice exercises\n",
    "\n",
    "### Part 4: Special Characters in Regular Expressions\n",
    "14) Special characters in regex\n",
    "15) How to use them in Python\n",
    "16) Examples with explanation\n",
    "17) Practice exercises\n",
    "\n",
    "### Part 5: Using Regular Expressions on Files\n",
    "18) How to use regex with text files\n",
    "19) Reading a file in Python\n",
    "20) Applying regex patterns on file content\n",
    "21) Extracting useful information\n",
    "22) Practice exercises\n",
    "\n",
    "### Part 6: Retrieving Information from an HTML File using Regex\n",
    "23) Reading HTML content\n",
    "24) Using regex to extract:\n",
    "  - Titles\n",
    "  - Headings\n",
    "  - Hyperlinks\n",
    "  - Emails\n",
    "25) Practice exercises"
   ]
  },
  {
   "cell_type": "markdown",
   "id": "01f28d8c-2417-4b01-8919-258c2710b85e",
   "metadata": {},
   "source": [
    "## Part 1: Introduction to Regular Expressions\n",
    "### 1) What are Regular Expressions (REs)?\n",
    "- Regular Expressions (REs) are patterns used to match strings. They are very useful for searching, replacing, and extracting text.\n",
    "\n",
    "- Real-life use cases:\n",
    "  - Validating email or phone number\n",
    "  - Extracting data from text/logs\n",
    "  - Web scraping\n",
    "### 2) Why use Regular Expressions?\n",
    "- We use regular expressions to find, validate, extract, and replace patterns in text (like emails, phone numbers, dates, log entries) quickly and efficiently."
   ]
  },
  {
   "cell_type": "markdown",
   "id": "f6565651-b2c4-4fc2-997a-3f4019b33c6b",
   "metadata": {},
   "source": [
    "### 3) Using Python's re module\n",
    "- To work with regular expressions in Python, we use the built-in re module.\n",
    "- Let's import the regular expressions module"
   ]
  },
  {
   "cell_type": "code",
   "execution_count": 195,
   "id": "4ce2eb08-1296-4ac0-8c0d-c2148efa9e04",
   "metadata": {},
   "outputs": [],
   "source": [
    "import re  "
   ]
  },
  {
   "cell_type": "markdown",
   "id": "414281e5-6a98-4af9-bd46-2df4464395b6",
   "metadata": {},
   "source": [
    "### 4) Basic regex functions with examples (match, search, findall, split, sub)"
   ]
  },
  {
   "cell_type": "markdown",
   "id": "5cd3c9a6-84cc-4e20-ac16-82e2a54ff087",
   "metadata": {},
   "source": [
    "#### re.match()\n",
    "- re.match() → checks for a match at the beginning of the string\n",
    "    - match.start() → Returns the starting index of the matched substring.\n",
    "    - match.end() → Returns the ending index (exclusive) of the matched substring. "
   ]
  },
  {
   "cell_type": "code",
   "execution_count": 199,
   "id": "1773f445-580f-4318-b012-637693f84656",
   "metadata": {},
   "outputs": [
    {
     "name": "stdout",
     "output_type": "stream",
     "text": [
      "<re.Match object; span=(0, 2), match='Bh'>\n"
     ]
    }
   ],
   "source": [
    "text = 'Bhavik'\n",
    "m = re.match(\"Bh\", text) \n",
    "print(m)"
   ]
  },
  {
   "cell_type": "code",
   "execution_count": 201,
   "id": "ec5fede5-0e49-472b-a357-9235280c6099",
   "metadata": {},
   "outputs": [
    {
     "name": "stdout",
     "output_type": "stream",
     "text": [
      "None\n",
      "<re.Match object; span=(0, 13), match='Energy can be'>\n"
     ]
    }
   ],
   "source": [
    "text = 'Energy can be transformed from one form to another form'\n",
    "\n",
    "m1 = re.match(\"form\", text)\n",
    "m2 = re.match(\"Energy can be\", text)\n",
    "print(m1)\n",
    "print(m2)"
   ]
  },
  {
   "cell_type": "markdown",
   "id": "dac48de9-df78-48da-9d07-78abbc9f2f76",
   "metadata": {},
   "source": [
    "#### re.search()\n",
    "- re.search() → searches for a match anywhere in the string"
   ]
  },
  {
   "cell_type": "code",
   "execution_count": 204,
   "id": "f81e57f8-aa60-450b-9fe7-5f1627bfce0b",
   "metadata": {},
   "outputs": [
    {
     "name": "stdout",
     "output_type": "stream",
     "text": [
      "<re.Match object; span=(19, 23), match='form'>\n"
     ]
    }
   ],
   "source": [
    "text = 'Energy can be transformed from one form to another form'\n",
    "pattern = 'form'\n",
    "\n",
    "match = re.search(pattern, text)\n",
    "print(match)"
   ]
  },
  {
   "cell_type": "code",
   "execution_count": 206,
   "id": "aaf12105-d2f2-42e7-b14f-0e5ea670e680",
   "metadata": {},
   "outputs": [
    {
     "name": "stdout",
     "output_type": "stream",
     "text": [
      "Pattern found at: 19 to 23\n"
     ]
    }
   ],
   "source": [
    "if match:\n",
    "    print('Pattern found at:', match.start(), 'to', match.end())\n",
    "else:\n",
    "    print('Pattern not found')"
   ]
  },
  {
   "cell_type": "markdown",
   "id": "aae03f6f-a2fd-4394-8bdc-7e8b13bec28d",
   "metadata": {},
   "source": [
    "#### re.findall()\n",
    "- re.findall() → returns all matches in a list"
   ]
  },
  {
   "cell_type": "code",
   "execution_count": 209,
   "id": "b6277e76-f48d-4860-b981-7e9633276967",
   "metadata": {},
   "outputs": [
    {
     "name": "stdout",
     "output_type": "stream",
     "text": [
      "['form', 'form', 'form']\n"
     ]
    }
   ],
   "source": [
    "print(re.findall(pattern, text))"
   ]
  },
  {
   "cell_type": "markdown",
   "id": "5210e39c-9a15-4a87-ab8c-a970af6bd657",
   "metadata": {},
   "source": [
    "#### re.split()\n",
    "- re.split() → splits string by a pattern"
   ]
  },
  {
   "cell_type": "code",
   "execution_count": 212,
   "id": "4f84e127-9ec6-476e-90e0-3d89c40b5e77",
   "metadata": {},
   "outputs": [
    {
     "name": "stdout",
     "output_type": "stream",
     "text": [
      "['Energy', 'can', 'be', 'transformed', 'from', 'one', 'form', 'to', 'another', 'form']\n"
     ]
    }
   ],
   "source": [
    "print(re.split(' ', text))"
   ]
  },
  {
   "cell_type": "markdown",
   "id": "072d7cfa-8159-4574-af67-afcff198bc87",
   "metadata": {},
   "source": [
    "#### re.sub()\n",
    "- re.sub() → replaces pattern with another string"
   ]
  },
  {
   "cell_type": "code",
   "execution_count": 215,
   "id": "87350fab-f9a7-42f1-b9ed-e6a46242e503",
   "metadata": {},
   "outputs": [
    {
     "name": "stdout",
     "output_type": "stream",
     "text": [
      "Water can be transformed from one form to another form\n"
     ]
    }
   ],
   "source": [
    "print(re.sub('Energy', 'Water', text))"
   ]
  },
  {
   "cell_type": "markdown",
   "id": "a0d46ee0-31af-45c3-9e76-686dedd8e118",
   "metadata": {},
   "source": [
    "### 5) Small practice exercises"
   ]
  },
  {
   "cell_type": "markdown",
   "id": "fb890ed9-7147-4e90-b2cc-dd0560c8ad7a",
   "metadata": {},
   "source": [
    "Try these small tasks:\n",
    "- Find all numbers in the string: 'My phone number is 9876543210 and office number is 079-23232323'\n",
    "- Replace all spaces in 'Python is fun to learn' with '-'\n",
    "- Split an email address like 'student@example.com' into username and domain."
   ]
  },
  {
   "cell_type": "markdown",
   "id": "8e6590ee-631a-4ec2-a4d9-9ab3b8133957",
   "metadata": {},
   "source": [
    "## Part 2: Sequence Characters in Regular Expressions\n",
    "### 6) What are sequence characters in regex?\n",
    "- Sequence characters in regex are special symbols that represent a class of characters (like digits, words, or spaces) instead of writing them explicitly.\n",
    "### 7) Common sequence characters in Python's re module\n",
    "- \\d → Any digit (0–9)\n",
    "- \\D → Any non-digit\n",
    "- \\w → Any word character (letters, digits, underscore)\n",
    "- \\W → Any non-word character\n",
    "- \\s → Any whitespace (space, tab, newline)\n",
    "- \\S → Any non-whitespace\n",
    "### 8) Examples with explanation"
   ]
  },
  {
   "cell_type": "code",
   "execution_count": 9,
   "id": "82cd9941-af1d-432c-9677-6f669fd89d9d",
   "metadata": {},
   "outputs": [],
   "source": [
    "import re\n",
    "\n",
    "txt = \"My contact number is 1232459876 and office contact number is 079-14568932\""
   ]
  },
  {
   "cell_type": "markdown",
   "id": "4e1cd75c-6ab3-480d-bbb1-ab06e1a0d6d6",
   "metadata": {},
   "source": [
    "##### Example 1: Find all digits in text"
   ]
  },
  {
   "cell_type": "code",
   "execution_count": 223,
   "id": "a4ea65c7-5bc7-43b7-b4bf-9c7a773e7762",
   "metadata": {},
   "outputs": [
    {
     "name": "stdout",
     "output_type": "stream",
     "text": [
      "['1232459876', '079', '14568932']\n"
     ]
    }
   ],
   "source": [
    "print(re.findall(r'\\d+',txt))"
   ]
  },
  {
   "cell_type": "markdown",
   "id": "a69a6f94-8aed-4d82-a55d-ae425b32dccc",
   "metadata": {},
   "source": [
    "##### Example 2: Find all words"
   ]
  },
  {
   "cell_type": "code",
   "execution_count": 226,
   "id": "ca71b40c-ea12-415d-a195-361c62a801f8",
   "metadata": {},
   "outputs": [
    {
     "name": "stdout",
     "output_type": "stream",
     "text": [
      "['My', 'contact', 'number', 'is', '1232459876', 'and', 'office', 'contact', 'number', 'is', '079', '14568932']\n"
     ]
    }
   ],
   "source": [
    "print(re.findall(r'\\w+',txt))"
   ]
  },
  {
   "cell_type": "markdown",
   "id": "9072de91-49f7-4deb-8a64-00d12f5fbbe5",
   "metadata": {},
   "source": [
    "##### Example 3: Find all whitespaces"
   ]
  },
  {
   "cell_type": "code",
   "execution_count": 229,
   "id": "b5c98da9-1954-46f1-a633-b22655565a97",
   "metadata": {},
   "outputs": [
    {
     "name": "stdout",
     "output_type": "stream",
     "text": [
      "[' ', ' ', ' ', ' ', ' ', ' ', ' ', ' ', ' ', ' ']\n"
     ]
    }
   ],
   "source": [
    "print(re.findall(r'\\s+',txt))"
   ]
  },
  {
   "cell_type": "markdown",
   "id": "cbbd6884-fb7a-4a1d-97c6-9ef19a1fda55",
   "metadata": {},
   "source": [
    "##### Example 4: Extract non-digit characters"
   ]
  },
  {
   "cell_type": "code",
   "execution_count": 232,
   "id": "03a38ee2-a7fe-403b-8c5a-eb9cdba1397f",
   "metadata": {},
   "outputs": [
    {
     "name": "stdout",
     "output_type": "stream",
     "text": [
      "['My contact number is ', ' and office contact number is ', '-']\n"
     ]
    }
   ],
   "source": [
    "print(re.findall(r'\\D+',txt))"
   ]
  },
  {
   "cell_type": "markdown",
   "id": "68d30c48-c844-4b24-ab06-6bee85b8f1b8",
   "metadata": {},
   "source": [
    "### 9) Practice exercises\n",
    "- Extract all words from 'Hello_123 World99 Python_3' using \\w+.\n",
    "- Find all numbers in 'Invoice: 555, Price: 1234, Code: 77'.\n",
    "- Count how many whitespaces are in 'Python is easy to learn'."
   ]
  },
  {
   "cell_type": "markdown",
   "id": "ef9e499e-6984-430f-b23c-4c6746cfb32c",
   "metadata": {},
   "source": [
    "## Part 3: Quantifiers in Regular Expressions\n",
    "### 10) What are quantifiers in regex?\n",
    "- Quantifiers define how many times a character or group should appear in the string.\n",
    "- Common Quantifiers:\n",
    "    - `*` → 0 or more times\n",
    "    - `+` → 1 or more times\n",
    "    - `?` → 0 or 1 time (optional)\n",
    "    - `{n}` → exactly n times\n",
    "    - `{n,}` → n or more times\n",
    "    - `{n,m}` → between n and m times\n",
    "\n",
    "\n",
    "### 11)Different types of quantifiers in Python\n",
    "- Common Quantifiers:\n",
    "    - `*` → 0 or more times\n",
    "    - `+` → 1 or more times\n",
    "    - `?` → 0 or 1 time (optional)\n",
    "    - `{n}` → exactly n times\n",
    "    - `{n,}` → n or more times\n",
    "    - `{n,m}` → between n and m times\n",
    "### 12) Practical examples with explanation"
   ]
  },
  {
   "cell_type": "code",
   "execution_count": 7,
   "id": "0b4fde5b-aa74-4895-98e8-821d8ff00f7a",
   "metadata": {},
   "outputs": [
    {
     "name": "stdout",
     "output_type": "stream",
     "text": [
      "['aaa', '', 'a', '', '', '', 'a', '', 'a', '']\n"
     ]
    }
   ],
   "source": [
    "import re\n",
    "t = \"aaa abc ada\"\n",
    "print(re.findall(r'a*', t))        # * → 0 or more times"
   ]
  },
  {
   "cell_type": "code",
   "execution_count": 11,
   "id": "52ad2952-08e1-4b34-b560-f1b19755e649",
   "metadata": {},
   "outputs": [
    {
     "name": "stdout",
     "output_type": "stream",
     "text": [
      "['aaa', 'a', 'a', 'a']\n"
     ]
    }
   ],
   "source": [
    "print(re.findall(r'a+',t))        # + → 1 or more times"
   ]
  },
  {
   "cell_type": "code",
   "execution_count": 27,
   "id": "7418a03b-b964-4ead-b09b-7bf546e4c2c2",
   "metadata": {},
   "outputs": [
    {
     "name": "stdout",
     "output_type": "stream",
     "text": [
      "['color', 'colour']\n"
     ]
    }
   ],
   "source": [
    "tx = \"color colr colour\"\n",
    "print(re.findall(r'colou?r',tx))    # \"a?\" → matches a once or not at all."
   ]
  },
  {
   "cell_type": "markdown",
   "id": "ed34d795-8f6c-4058-ac1e-ad10a0fb294f",
   "metadata": {},
   "source": [
    "Useful when you want to handle optional letters (like \"color\" vs \"colour\", \"bat\" vs \"bt\")."
   ]
  },
  {
   "cell_type": "code",
   "execution_count": 35,
   "id": "3987ddf2-4e50-401e-a1f2-07afcb20a944",
   "metadata": {},
   "outputs": [
    {
     "name": "stdout",
     "output_type": "stream",
     "text": [
      "Matches found:  ['color', 'colour', 'color', 'colour']\n"
     ]
    }
   ],
   "source": [
    "text = \"\"\"\n",
    "My favorite color is blue.\n",
    "My favourite colour is red.\n",
    "Some people write color, other wire colour.\n",
    "\"\"\"\n",
    "\n",
    "matches = re.findall(r'colou?r', text)\n",
    "\n",
    "print(\"Matches found: \", matches)"
   ]
  },
  {
   "cell_type": "code",
   "execution_count": 37,
   "id": "1779d184-9f6c-40a5-80f0-d6357964b48e",
   "metadata": {},
   "outputs": [
    {
     "name": "stdout",
     "output_type": "stream",
     "text": [
      "Here I found :  ['favorite', 'favourite']\n"
     ]
    }
   ],
   "source": [
    "m = re.findall(r'favou?rite', text)\n",
    "\n",
    "print(\"Here I found : \",m)"
   ]
  },
  {
   "cell_type": "markdown",
   "id": "998d780a-45ad-4aba-b133-0a220a91b591",
   "metadata": {},
   "source": [
    "When processing English text, you might want to match both American (color, honor, analyze) and British spellings (colour, honour, analyse).\n",
    "\n",
    "Regex with ? makes that easy!"
   ]
  },
  {
   "cell_type": "code",
   "execution_count": 40,
   "id": "7163d79f-be0c-4675-9e3d-79c248c4a1a1",
   "metadata": {},
   "outputs": [
    {
     "name": "stdout",
     "output_type": "stream",
     "text": [
      "Matches found: ['http', 'https']\n"
     ]
    }
   ],
   "source": [
    "text = \"\"\"\n",
    "Visit our site at http://example.com\n",
    "Make sure to use https://secure.com for secure browsing.\n",
    "\"\"\"\n",
    "\n",
    "matches = re.findall(r'https?', text)\n",
    "print(\"Matches found:\", matches)"
   ]
  },
  {
   "cell_type": "code",
   "execution_count": null,
   "id": "c66d0c9c-44a6-4035-a2ff-458d2a3eb0aa",
   "metadata": {},
   "outputs": [],
   "source": []
  },
  {
   "cell_type": "code",
   "execution_count": null,
   "id": "0de3a1fd-e31c-4c4b-afeb-4c45fc015c28",
   "metadata": {},
   "outputs": [],
   "source": []
  },
  {
   "cell_type": "code",
   "execution_count": null,
   "id": "f5404d80-abd4-43a9-aabe-e38951f96402",
   "metadata": {},
   "outputs": [],
   "source": []
  },
  {
   "cell_type": "code",
   "execution_count": null,
   "id": "e44cd05d-5bec-4bd6-a5e5-759deba945f2",
   "metadata": {},
   "outputs": [],
   "source": []
  },
  {
   "cell_type": "markdown",
   "id": "33283470-7f5c-4cbe-824c-9a3fe6324e3b",
   "metadata": {},
   "source": [
    "### 13) Practice exercises\n",
    "- Find all words that start with `'a'` and have at least 2 `'b'` in `'abb abbb abbbb a ab'`.\n",
    "- Extract numbers with exactly 3 digits from `'123 45 6789 12 999'`.\n",
    "- Match words ending with `'ing'` in `'playing run sing walking talking'`.\n"
   ]
  },
  {
   "cell_type": "code",
   "execution_count": null,
   "id": "d1fb2a8a-50cd-407a-a4f0-395da0e93dc8",
   "metadata": {},
   "outputs": [],
   "source": []
  },
  {
   "cell_type": "code",
   "execution_count": null,
   "id": "6b2b60ae-da9d-4b28-b738-54dbec212d7a",
   "metadata": {},
   "outputs": [],
   "source": []
  },
  {
   "cell_type": "code",
   "execution_count": null,
   "id": "d8d8b6a4-5e56-42d5-b103-7b9e76e8e7f0",
   "metadata": {},
   "outputs": [],
   "source": []
  },
  {
   "cell_type": "code",
   "execution_count": null,
   "id": "8f4b9443-b287-4523-bf94-ae3267251d37",
   "metadata": {},
   "outputs": [],
   "source": []
  }
 ],
 "metadata": {
  "kernelspec": {
   "display_name": "Python 3 (ipykernel)",
   "language": "python",
   "name": "python3"
  },
  "language_info": {
   "codemirror_mode": {
    "name": "ipython",
    "version": 3
   },
   "file_extension": ".py",
   "mimetype": "text/x-python",
   "name": "python",
   "nbconvert_exporter": "python",
   "pygments_lexer": "ipython3",
   "version": "3.12.7"
  }
 },
 "nbformat": 4,
 "nbformat_minor": 5
}
