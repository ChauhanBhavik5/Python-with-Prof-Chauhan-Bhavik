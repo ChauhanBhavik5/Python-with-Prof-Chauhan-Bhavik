{
 "cells": [
  {
   "cell_type": "markdown",
   "id": "745c1763-84ed-4b8d-8940-0908b4406114",
   "metadata": {},
   "source": [
    "# Python with Prof. Chauhan Bhavik\n",
    "## Regular Expressions\n",
    "\n",
    "### Part 1: Introduction to Regular Expressions\n",
    "1) What are Regular Expressions (REs)?\n",
    "2) Why use Regular Expressions?\n",
    "3) Using Python's re module\n",
    "4) Basic regex functions with examples (match, search, findall, split, sub)\n",
    "5) Small practice exercises\n",
    "\n",
    "### Part 2: Sequence Characters in Regular Expressions\n",
    "6) What are sequence characters in regex?\n",
    "7) Common sequence characters in Python's re module\n",
    "8) Examples with explanation\n",
    "9) Practice exercises\n",
    "\n",
    "### Part 3: Quantifiers in Regular Expressions\n",
    "10) What are quantifiers in regex?\n",
    "11) Different types of quantifiers in Python\n",
    "12) Practical examples with explanation\n",
    "13) Practice exercises\n",
    "\n",
    "### Part 4: Special Characters in Regular Expressions\n",
    "14) Special characters in regex\n",
    "15) How to use them in Python\n",
    "16) Examples with explanation\n",
    "17) Practice exercises\n",
    "\n",
    "### Part 5: Using Regular Expressions on Files\n",
    "18) How to use regex with text files\n",
    "19) Reading a file in Python\n",
    "20) Applying regex patterns on file content\n",
    "21) Extracting useful information\n",
    "22) Practice exercises\n",
    "\n",
    "### Part 6: Retrieving Information from an HTML File using Regex\n",
    "23) Reading HTML content\n",
    "24) Using regex to extract:\n",
    "  - Titles\n",
    "  - Headings\n",
    "  - Hyperlinks\n",
    "  - Emails\n",
    "25) Practice exercises"
   ]
  },
  {
   "cell_type": "markdown",
   "id": "01f28d8c-2417-4b01-8919-258c2710b85e",
   "metadata": {},
   "source": [
    "## Part 1: Introduction to Regular Expressions\n",
    "### 1) What are Regular Expressions (REs)?\n",
    "- Regular Expressions (REs) are patterns used to match strings. They are very useful for searching, replacing, and extracting text.\n",
    "\n",
    "- Real-life use cases:\n",
    "  - Validating email or phone number\n",
    "  - Extracting data from text/logs\n",
    "  - Web scraping\n",
    "### 2) Why use Regular Expressions?\n",
    "- We use regular expressions to find, validate, extract, and replace patterns in text (like emails, phone numbers, dates, log entries) quickly and efficiently."
   ]
  },
  {
   "cell_type": "markdown",
   "id": "f6565651-b2c4-4fc2-997a-3f4019b33c6b",
   "metadata": {},
   "source": [
    "### 3) Using Python's re module\n",
    "- To work with regular expressions in Python, we use the built-in re module.\n",
    "- Let's import the regular expressions module"
   ]
  },
  {
   "cell_type": "code",
   "execution_count": 195,
   "id": "4ce2eb08-1296-4ac0-8c0d-c2148efa9e04",
   "metadata": {},
   "outputs": [],
   "source": [
    "import re  "
   ]
  },
  {
   "cell_type": "markdown",
   "id": "414281e5-6a98-4af9-bd46-2df4464395b6",
   "metadata": {},
   "source": [
    "### 4) Basic regex functions with examples (match, search, findall, split, sub)"
   ]
  },
  {
   "cell_type": "markdown",
   "id": "5cd3c9a6-84cc-4e20-ac16-82e2a54ff087",
   "metadata": {},
   "source": [
    "#### re.match()\n",
    "- re.match() → checks for a match at the beginning of the string\n",
    "    - match.start() → Returns the starting index of the matched substring.\n",
    "    - match.end() → Returns the ending index (exclusive) of the matched substring. "
   ]
  },
  {
   "cell_type": "code",
   "execution_count": 199,
   "id": "1773f445-580f-4318-b012-637693f84656",
   "metadata": {},
   "outputs": [
    {
     "name": "stdout",
     "output_type": "stream",
     "text": [
      "<re.Match object; span=(0, 2), match='Bh'>\n"
     ]
    }
   ],
   "source": [
    "text = 'Bhavik'\n",
    "m = re.match(\"Bh\", text) \n",
    "print(m)"
   ]
  },
  {
   "cell_type": "code",
   "execution_count": 201,
   "id": "ec5fede5-0e49-472b-a357-9235280c6099",
   "metadata": {},
   "outputs": [
    {
     "name": "stdout",
     "output_type": "stream",
     "text": [
      "None\n",
      "<re.Match object; span=(0, 13), match='Energy can be'>\n"
     ]
    }
   ],
   "source": [
    "text = 'Energy can be transformed from one form to another form'\n",
    "\n",
    "m1 = re.match(\"form\", text)\n",
    "m2 = re.match(\"Energy can be\", text)\n",
    "print(m1)\n",
    "print(m2)"
   ]
  },
  {
   "cell_type": "markdown",
   "id": "dac48de9-df78-48da-9d07-78abbc9f2f76",
   "metadata": {},
   "source": [
    "#### re.search()\n",
    "- re.search() → searches for a match anywhere in the string"
   ]
  },
  {
   "cell_type": "code",
   "execution_count": 204,
   "id": "f81e57f8-aa60-450b-9fe7-5f1627bfce0b",
   "metadata": {},
   "outputs": [
    {
     "name": "stdout",
     "output_type": "stream",
     "text": [
      "<re.Match object; span=(19, 23), match='form'>\n"
     ]
    }
   ],
   "source": [
    "text = 'Energy can be transformed from one form to another form'\n",
    "pattern = 'form'\n",
    "\n",
    "match = re.search(pattern, text)\n",
    "print(match)"
   ]
  },
  {
   "cell_type": "code",
   "execution_count": 206,
   "id": "aaf12105-d2f2-42e7-b14f-0e5ea670e680",
   "metadata": {},
   "outputs": [
    {
     "name": "stdout",
     "output_type": "stream",
     "text": [
      "Pattern found at: 19 to 23\n"
     ]
    }
   ],
   "source": [
    "if match:\n",
    "    print('Pattern found at:', match.start(), 'to', match.end())\n",
    "else:\n",
    "    print('Pattern not found')"
   ]
  },
  {
   "cell_type": "markdown",
   "id": "aae03f6f-a2fd-4394-8bdc-7e8b13bec28d",
   "metadata": {},
   "source": [
    "#### re.findall()\n",
    "- re.findall() → returns all matches in a list"
   ]
  },
  {
   "cell_type": "code",
   "execution_count": 209,
   "id": "b6277e76-f48d-4860-b981-7e9633276967",
   "metadata": {},
   "outputs": [
    {
     "name": "stdout",
     "output_type": "stream",
     "text": [
      "['form', 'form', 'form']\n"
     ]
    }
   ],
   "source": [
    "print(re.findall(pattern, text))"
   ]
  },
  {
   "cell_type": "markdown",
   "id": "5210e39c-9a15-4a87-ab8c-a970af6bd657",
   "metadata": {},
   "source": [
    "#### re.split()\n",
    "- re.split() → splits string by a pattern"
   ]
  },
  {
   "cell_type": "code",
   "execution_count": 212,
   "id": "4f84e127-9ec6-476e-90e0-3d89c40b5e77",
   "metadata": {},
   "outputs": [
    {
     "name": "stdout",
     "output_type": "stream",
     "text": [
      "['Energy', 'can', 'be', 'transformed', 'from', 'one', 'form', 'to', 'another', 'form']\n"
     ]
    }
   ],
   "source": [
    "print(re.split(' ', text))"
   ]
  },
  {
   "cell_type": "markdown",
   "id": "072d7cfa-8159-4574-af67-afcff198bc87",
   "metadata": {},
   "source": [
    "#### re.sub()\n",
    "- re.sub() → replaces pattern with another string"
   ]
  },
  {
   "cell_type": "code",
   "execution_count": 215,
   "id": "87350fab-f9a7-42f1-b9ed-e6a46242e503",
   "metadata": {},
   "outputs": [
    {
     "name": "stdout",
     "output_type": "stream",
     "text": [
      "Water can be transformed from one form to another form\n"
     ]
    }
   ],
   "source": [
    "print(re.sub('Energy', 'Water', text))"
   ]
  },
  {
   "cell_type": "markdown",
   "id": "a0d46ee0-31af-45c3-9e76-686dedd8e118",
   "metadata": {},
   "source": [
    "### 5) Small practice exercises"
   ]
  },
  {
   "cell_type": "markdown",
   "id": "fb890ed9-7147-4e90-b2cc-dd0560c8ad7a",
   "metadata": {},
   "source": [
    "Try these small tasks:\n",
    "- Find all numbers in the string: 'My phone number is 9876543210 and office number is 079-23232323'\n",
    "- Replace all spaces in 'Python is fun to learn' with '-'\n",
    "- Split an email address like 'student@example.com' into username and domain."
   ]
  },
  {
   "cell_type": "markdown",
   "id": "8e6590ee-631a-4ec2-a4d9-9ab3b8133957",
   "metadata": {},
   "source": [
    "## Part 2: Sequence Characters in Regular Expressions\n",
    "### 6) What are sequence characters in regex?\n",
    "- Sequence characters in regex are special symbols that represent a class of characters (like digits, words, or spaces) instead of writing them explicitly.\n",
    "### 7) Common sequence characters in Python's re module\n",
    "- \\d → Any digit (0–9)\n",
    "- \\D → Any non-digit\n",
    "- \\w → Any word character (letters, digits, underscore)\n",
    "- \\W → Any non-word character\n",
    "- \\s → Any whitespace (space, tab, newline)\n",
    "- \\S → Any non-whitespace\n",
    "### 8) Examples with explanation"
   ]
  },
  {
   "cell_type": "code",
   "execution_count": 9,
   "id": "82cd9941-af1d-432c-9677-6f669fd89d9d",
   "metadata": {},
   "outputs": [],
   "source": [
    "import re\n",
    "\n",
    "txt = \"My contact number is 1232459876 and office contact number is 079-14568932\""
   ]
  },
  {
   "cell_type": "markdown",
   "id": "4e1cd75c-6ab3-480d-bbb1-ab06e1a0d6d6",
   "metadata": {},
   "source": [
    "##### Example 1: Find all digits in text"
   ]
  },
  {
   "cell_type": "code",
   "execution_count": 223,
   "id": "a4ea65c7-5bc7-43b7-b4bf-9c7a773e7762",
   "metadata": {},
   "outputs": [
    {
     "name": "stdout",
     "output_type": "stream",
     "text": [
      "['1232459876', '079', '14568932']\n"
     ]
    }
   ],
   "source": [
    "print(re.findall(r'\\d+',txt))"
   ]
  },
  {
   "cell_type": "markdown",
   "id": "a69a6f94-8aed-4d82-a55d-ae425b32dccc",
   "metadata": {},
   "source": [
    "##### Example 2: Find all words"
   ]
  },
  {
   "cell_type": "code",
   "execution_count": 226,
   "id": "ca71b40c-ea12-415d-a195-361c62a801f8",
   "metadata": {},
   "outputs": [
    {
     "name": "stdout",
     "output_type": "stream",
     "text": [
      "['My', 'contact', 'number', 'is', '1232459876', 'and', 'office', 'contact', 'number', 'is', '079', '14568932']\n"
     ]
    }
   ],
   "source": [
    "print(re.findall(r'\\w+',txt))"
   ]
  },
  {
   "cell_type": "markdown",
   "id": "9072de91-49f7-4deb-8a64-00d12f5fbbe5",
   "metadata": {},
   "source": [
    "##### Example 3: Find all whitespaces"
   ]
  },
  {
   "cell_type": "code",
   "execution_count": 229,
   "id": "b5c98da9-1954-46f1-a633-b22655565a97",
   "metadata": {},
   "outputs": [
    {
     "name": "stdout",
     "output_type": "stream",
     "text": [
      "[' ', ' ', ' ', ' ', ' ', ' ', ' ', ' ', ' ', ' ']\n"
     ]
    }
   ],
   "source": [
    "print(re.findall(r'\\s+',txt))"
   ]
  },
  {
   "cell_type": "markdown",
   "id": "cbbd6884-fb7a-4a1d-97c6-9ef19a1fda55",
   "metadata": {},
   "source": [
    "##### Example 4: Extract non-digit characters"
   ]
  },
  {
   "cell_type": "code",
   "execution_count": 232,
   "id": "03a38ee2-a7fe-403b-8c5a-eb9cdba1397f",
   "metadata": {},
   "outputs": [
    {
     "name": "stdout",
     "output_type": "stream",
     "text": [
      "['My contact number is ', ' and office contact number is ', '-']\n"
     ]
    }
   ],
   "source": [
    "print(re.findall(r'\\D+',txt))"
   ]
  },
  {
   "cell_type": "markdown",
   "id": "68d30c48-c844-4b24-ab06-6bee85b8f1b8",
   "metadata": {},
   "source": [
    "### 9) Practice exercises\n",
    "- Extract all words from 'Hello_123 World99 Python_3' using \\w+.\n",
    "- Find all numbers in 'Invoice: 555, Price: 1234, Code: 77'.\n",
    "- Count how many whitespaces are in 'Python is easy to learn'."
   ]
  },
  {
   "cell_type": "markdown",
   "id": "ef9e499e-6984-430f-b23c-4c6746cfb32c",
   "metadata": {},
   "source": [
    "## Part 3: Quantifiers in Regular Expressions\n",
    "### 10) What are quantifiers in regex?\n",
    "- Quantifiers define how many times a character or group should appear in the string.\n",
    "- Common Quantifiers:\n",
    "    - `*` → 0 or more times\n",
    "    - `+` → 1 or more times\n",
    "    - `?` → 0 or 1 time (optional)\n",
    "    - `{n}` → exactly n times\n",
    "    - `{n,}` → n or more times\n",
    "    - `{n,m}` → between n and m times\n",
    "\n",
    "\n",
    "### 11)Different types of quantifiers in Python\n",
    "- Common Quantifiers:\n",
    "    - `*` → 0 or more times\n",
    "    - `+` → 1 or more times\n",
    "    - `?` → 0 or 1 time (optional)\n",
    "    - `{n}` → exactly n times\n",
    "    - `{n,}` → n or more times\n",
    "    - `{n,m}` → between n and m times\n",
    "### 12) Practical examples with explanation"
   ]
  },
  {
   "cell_type": "code",
   "execution_count": 3,
   "id": "0b4fde5b-aa74-4895-98e8-821d8ff00f7a",
   "metadata": {},
   "outputs": [
    {
     "name": "stdout",
     "output_type": "stream",
     "text": [
      "['aaa', '', 'a', '', '', '', 'a', '', 'a', '']\n"
     ]
    }
   ],
   "source": [
    "import re\n",
    "t = \"aaa abc ada\"\n",
    "print(re.findall(r'a*', t))        # * → 0 or more times"
   ]
  },
  {
   "cell_type": "code",
   "execution_count": 5,
   "id": "52ad2952-08e1-4b34-b560-f1b19755e649",
   "metadata": {},
   "outputs": [
    {
     "name": "stdout",
     "output_type": "stream",
     "text": [
      "['aaa', 'a', 'a', 'a']\n"
     ]
    }
   ],
   "source": [
    "print(re.findall(r'a+',t))        # + → 1 or more times"
   ]
  },
  {
   "cell_type": "code",
   "execution_count": 7,
   "id": "7418a03b-b964-4ead-b09b-7bf546e4c2c2",
   "metadata": {},
   "outputs": [
    {
     "name": "stdout",
     "output_type": "stream",
     "text": [
      "['color', 'colour']\n"
     ]
    }
   ],
   "source": [
    "tx = \"color colr colour\"\n",
    "print(re.findall(r'colou?r',tx))    # \"a?\" → matches a once or not at all."
   ]
  },
  {
   "cell_type": "markdown",
   "id": "ed34d795-8f6c-4058-ac1e-ad10a0fb294f",
   "metadata": {},
   "source": [
    "Useful when you want to handle optional letters (like \"color\" vs \"colour\", \"bat\" vs \"bt\")."
   ]
  },
  {
   "cell_type": "code",
   "execution_count": 10,
   "id": "3987ddf2-4e50-401e-a1f2-07afcb20a944",
   "metadata": {},
   "outputs": [
    {
     "name": "stdout",
     "output_type": "stream",
     "text": [
      "Matches found:  ['color', 'colour', 'color', 'colour']\n"
     ]
    }
   ],
   "source": [
    "text = \"\"\"\n",
    "My favorite color is blue.\n",
    "My favourite colour is red.\n",
    "Some people write color, other wire colour.\n",
    "\"\"\"\n",
    "\n",
    "matches = re.findall(r'colou?r', text)\n",
    "\n",
    "print(\"Matches found: \", matches)"
   ]
  },
  {
   "cell_type": "code",
   "execution_count": 12,
   "id": "1779d184-9f6c-40a5-80f0-d6357964b48e",
   "metadata": {},
   "outputs": [
    {
     "name": "stdout",
     "output_type": "stream",
     "text": [
      "Here I found :  ['favorite', 'favourite']\n"
     ]
    }
   ],
   "source": [
    "m = re.findall(r'favou?rite', text)\n",
    "\n",
    "print(\"Here I found : \",m)"
   ]
  },
  {
   "cell_type": "markdown",
   "id": "998d780a-45ad-4aba-b133-0a220a91b591",
   "metadata": {},
   "source": [
    "When processing English text, you might want to match both American (color, honor, analyze) and British spellings (colour, honour, analyse).\n",
    "\n",
    "Regex with ? makes that easy!"
   ]
  },
  {
   "cell_type": "code",
   "execution_count": 15,
   "id": "7163d79f-be0c-4675-9e3d-79c248c4a1a1",
   "metadata": {},
   "outputs": [
    {
     "name": "stdout",
     "output_type": "stream",
     "text": [
      "Matches found: ['http', 'https']\n"
     ]
    }
   ],
   "source": [
    "text = \"\"\"\n",
    "Visit our site at http://example.com\n",
    "Make sure to use https://secure.com for secure browsing.\n",
    "\"\"\"\n",
    "\n",
    "matches = re.findall(r'https?', text)\n",
    "print(\"Matches found:\", matches)"
   ]
  },
  {
   "cell_type": "code",
   "execution_count": 37,
   "id": "c66d0c9c-44a6-4035-a2ff-458d2a3eb0aa",
   "metadata": {},
   "outputs": [
    {
     "name": "stdout",
     "output_type": "stream",
     "text": [
      "Exactly n time here n = 4  ['1111', '1111']\n",
      "More than n time, Here n=3  ['111', '1111', '11111']\n",
      "Between n to m time, Here n=2 & m=4 ['11', '111', '1111', '1111']\n"
     ]
    }
   ],
   "source": [
    "text = \" 1 11 111 1111 11111\"\n",
    "print(\"Exactly n time here n = 4 \", re.findall(r'1{4}',text))\n",
    "print(\"More than n time, Here n=3 \", (re.findall(r'1{3,}',text)))\n",
    "print(\"Between n to m time, Here n=2 & m=4\", re.findall(r'1{2,4}',text))"
   ]
  },
  {
   "cell_type": "markdown",
   "id": "33283470-7f5c-4cbe-824c-9a3fe6324e3b",
   "metadata": {},
   "source": [
    "### 13) Practice exercises\n",
    "- Find all words that start with `'a'` and have at least 2 `'b'` in `'abb abbb abbbb a ab'`.\n",
    "- Extract numbers with exactly 3 digits from `'123 45 6789 12 999'`.\n",
    "- Match words ending with `'ing'` in `'playing run sing walking talking'`.\n"
   ]
  },
  {
   "cell_type": "markdown",
   "id": "6f5e534d-e3c3-4085-964d-365584a177a5",
   "metadata": {},
   "source": [
    "## Part 4: Special Characters in Regular Expressions\n",
    "### 14) Special characters in regex\n",
    "Regex has special characters that change how patterns are interpreted.\n",
    "#### What are Special Characters in Regex?\n",
    "**Common Special Characters:**\n",
    "- `.` → Matches any single character except newline\n",
    "- `^` → Matches the beginning of a string\n",
    "- `$` → Matches the end of a string\n",
    "- `[]` → Matches any single character inside brackets\n",
    "- `[^ ]` → Matches any character **not** inside brackets\n",
    "- `|` → Acts like OR\n",
    "- `()` → Groups expressions\n",
    "- `\\\\` → Escapes a special character"
   ]
  },
  {
   "cell_type": "markdown",
   "id": "cfe7286f-fdae-4752-a789-a94f0bae21a8",
   "metadata": {},
   "source": [
    "### 15) How to use them in Python\n",
    "By importing re module in python we can use easily. "
   ]
  },
  {
   "cell_type": "code",
   "execution_count": 64,
   "id": "4c235f82-18dc-486f-89af-eb1560d12d99",
   "metadata": {},
   "outputs": [],
   "source": [
    "import re"
   ]
  },
  {
   "cell_type": "markdown",
   "id": "7cc47cfd-32ec-4a5b-8ed1-c5a13ffbf0d3",
   "metadata": {},
   "source": [
    "### 16) Examples with explanation"
   ]
  },
  {
   "cell_type": "markdown",
   "id": "2355a413-16f1-4840-81ff-52d89b8f7937",
   "metadata": {},
   "source": [
    "##### (dot) . → Matches any single character except newline"
   ]
  },
  {
   "cell_type": "code",
   "execution_count": 68,
   "id": "f1208f8b-39bb-400a-b3cd-55a936c35f5d",
   "metadata": {},
   "outputs": [
    {
     "name": "stdout",
     "output_type": "stream",
     "text": [
      "['cat', 'bat', 'rat', 'mat']\n"
     ]
    }
   ],
   "source": [
    "text = \"cat bat rat mat rom\"\n",
    "print(re.findall(r'.at', text))"
   ]
  },
  {
   "cell_type": "markdown",
   "id": "f0f67889-7fd6-4001-bfa0-d6165cf28d33",
   "metadata": {},
   "source": [
    "##### (caret) ^ → Matches the beginning of a string"
   ]
  },
  {
   "cell_type": "code",
   "execution_count": 72,
   "id": "ec8a0f35-8a7b-4b64-9dac-579bdcee7e94",
   "metadata": {},
   "outputs": [
    {
     "name": "stdout",
     "output_type": "stream",
     "text": [
      "['Python']\n",
      "[]\n"
     ]
    }
   ],
   "source": [
    "text1 = \"Python is fun\"\n",
    "text2 = \"Learning python is fun\"\n",
    "print(re.findall(r'^Python', text1))\n",
    "print(re.findall(r'^python', text2))"
   ]
  },
  {
   "cell_type": "markdown",
   "id": "64e748ac-c7d4-4df7-b41e-008f7bb06f9c",
   "metadata": {},
   "source": [
    "##### $ → Matches the end of a string"
   ]
  },
  {
   "cell_type": "code",
   "execution_count": 91,
   "id": "22006ee0-894d-4544-a0d1-e97b3aa3dfd4",
   "metadata": {},
   "outputs": [
    {
     "name": "stdout",
     "output_type": "stream",
     "text": [
      "[]\n",
      "['fun']\n"
     ]
    }
   ],
   "source": [
    "text1 = \"python is love\"\n",
    "text2 = \"Learning python is fun\"\n",
    "print(re.findall(r'fun$', text1))\n",
    "print(re.findall(r'fun$', text2))"
   ]
  },
  {
   "cell_type": "markdown",
   "id": "178e4046-cfff-4056-9c2d-91617119daf6",
   "metadata": {},
   "source": [
    "##### [ ] → Matches any single character inside brackets"
   ]
  },
  {
   "cell_type": "code",
   "execution_count": 100,
   "id": "4c6319db-f7f1-4002-bfa7-58153cf0ace7",
   "metadata": {},
   "outputs": [
    {
     "name": "stdout",
     "output_type": "stream",
     "text": [
      "['cat', 'rat']\n"
     ]
    }
   ],
   "source": [
    "text = \"cat bat rat mat\"\n",
    "print(re.findall(r'[cr]at', text))"
   ]
  },
  {
   "cell_type": "markdown",
   "id": "0abd15d0-7ece-45b8-acf1-c6c8914087ca",
   "metadata": {},
   "source": [
    "##### [^ ] → Matches any character not inside brackets"
   ]
  },
  {
   "cell_type": "code",
   "execution_count": 106,
   "id": "6fc999ae-2745-4f2d-a26f-911f224d67d6",
   "metadata": {},
   "outputs": [
    {
     "name": "stdout",
     "output_type": "stream",
     "text": [
      "['bat', 'mat']\n"
     ]
    }
   ],
   "source": [
    "text = \"cat bat rat mat\"\n",
    "print(re.findall(r'[^cr]at', text))"
   ]
  },
  {
   "cell_type": "markdown",
   "id": "8747a70a-9ff7-4b0f-bd6b-fa9adc878e9e",
   "metadata": {},
   "source": [
    "##### | → Acts like OR"
   ]
  },
  {
   "cell_type": "code",
   "execution_count": 110,
   "id": "e3a35047-8410-4ce6-a476-ee6d636810b3",
   "metadata": {},
   "outputs": [
    {
     "name": "stdout",
     "output_type": "stream",
     "text": [
      "['cow', 'dog']\n"
     ]
    }
   ],
   "source": [
    "text = \"I like cows and dogs\"\n",
    "print(re.findall(r'cow|dog', text))"
   ]
  },
  {
   "cell_type": "markdown",
   "id": "40dae47b-2609-4a55-9e0e-99fe1c0739c7",
   "metadata": {},
   "source": [
    "##### () → Groups expressions"
   ]
  },
  {
   "cell_type": "code",
   "execution_count": 116,
   "id": "975ca4e5-047f-4d2c-bd50-710276aac080",
   "metadata": {},
   "outputs": [
    {
     "name": "stdout",
     "output_type": "stream",
     "text": [
      "['e', 'a']\n"
     ]
    }
   ],
   "source": [
    "text = \"grey gray gems gram\"\n",
    "print(re.findall(r'gr(a|e)y', text))"
   ]
  },
  {
   "cell_type": "markdown",
   "id": "4b3e8e28-4a15-470b-87d3-2c7d518af8b0",
   "metadata": {},
   "source": [
    "##### \\\\ → Escapes a special character"
   ]
  },
  {
   "cell_type": "code",
   "execution_count": 118,
   "id": "ea481dd1-1c39-44ba-adfc-103abc9b7073",
   "metadata": {},
   "outputs": [
    {
     "name": "stdout",
     "output_type": "stream",
     "text": [
      "[]\n"
     ]
    }
   ],
   "source": [
    "text = \"Price is 100$\"\n",
    "print(re.findall(r'100\\\\$', text))"
   ]
  },
  {
   "cell_type": "markdown",
   "id": "30440e6b-b258-4494-a615-d670a995a60e",
   "metadata": {},
   "source": [
    "### 17) Practice exercises\n",
    "1. Match words that end with `at` but do not start with `c` in `\"cat bat rat mat\"`.\n",
    "2. Find all strings that start with `'Hello'` in `\"Hello World Hello123\"`.\n",
    "3. Extract both `'grey'` and `'gray'` from `\"grey gray green\"`.\n",
    "4. Match the dollar sign (`$`) in `\"Total cost is 500$\"`."
   ]
  },
  {
   "cell_type": "markdown",
   "id": "26d7796b-aa69-4819-a65f-21a9716427e2",
   "metadata": {},
   "source": [
    "## Part 5: Using Regular Expressions on Files\n",
    "Regular expressions are often applied to files for:\n",
    "- Searching logs for error messages\n",
    "- Extracting phone numbers, emails, or IDs\n",
    "- Filtering specific lines\n",
    "- Cleaning unwanted data\n",
    "### How to use regex with text files"
   ]
  },
  {
   "cell_type": "code",
   "execution_count": 239,
   "id": "ea360ba3-5718-4ee0-b625-689ac1f65097",
   "metadata": {},
   "outputs": [],
   "source": [
    "import re"
   ]
  },
  {
   "cell_type": "code",
   "execution_count": 265,
   "id": "869a2972-b656-48ad-86d1-c5d759ebfbff",
   "metadata": {},
   "outputs": [],
   "source": [
    "text = \"\"\"Hello my e-mail address is qwe@ewq.com\n",
    "Contact: +91-9876543210\n",
    "Error: File not found!!!\n",
    "Error is not good!\n",
    "Back-up email: plm@mlp.com\n",
    "\"\"\"\n",
    "\n",
    "with open (\"sample.txt\", \"w\") as f:\n",
    "    f.write(text)"
   ]
  },
  {
   "cell_type": "markdown",
   "id": "d55fc3bf-5de4-4fb9-a1d5-0edb7fd32578",
   "metadata": {},
   "source": [
    "### Reading a file in Python\n",
    "We usually read the file into a string, then apply regex."
   ]
  },
  {
   "cell_type": "code",
   "execution_count": 268,
   "id": "67b687a3-7a4b-46c3-95a3-3990728c25cb",
   "metadata": {},
   "outputs": [
    {
     "name": "stdout",
     "output_type": "stream",
     "text": [
      "Hello my e-mail address is qwe@ewq.com\n",
      "Contact: +91-9876543210\n",
      "Error: File not found!!!\n",
      "Error is not good!\n",
      "Back-up email: plm@mlp.com\n",
      "\n"
     ]
    }
   ],
   "source": [
    "with open(\"sample.txt\", \"r\") as f:\n",
    "    content = f.read()\n",
    "\n",
    "print(content)"
   ]
  },
  {
   "cell_type": "markdown",
   "id": "1d9fd200-ad11-4650-acf4-10318715c29b",
   "metadata": {},
   "source": [
    "### Applying regex patterns on file content"
   ]
  },
  {
   "cell_type": "markdown",
   "id": "12b23b70-af7f-471a-b9dc-07b5e28a7c56",
   "metadata": {},
   "source": [
    "#### Let's Find all lines containing 'Error'"
   ]
  },
  {
   "cell_type": "code",
   "execution_count": 272,
   "id": "b0acb36a-51c6-4713-9756-897665b84c8d",
   "metadata": {},
   "outputs": [
    {
     "name": "stdout",
     "output_type": "stream",
     "text": [
      "Error lines:  ['Error: File not found!!!', 'Error is not good!']\n"
     ]
    }
   ],
   "source": [
    "e = re.findall(r'.*Error.*',content)\n",
    "print(\"Error lines: \", e)"
   ]
  },
  {
   "cell_type": "markdown",
   "id": "66da58ef-f042-46ea-82c0-5d5e55b3b0f3",
   "metadata": {},
   "source": [
    ".* (before Error)\n",
    "\n",
    "- . → any character except newline (\\n)\n",
    "\n",
    "- Astric sign * → zero or more times\n",
    "\n",
    "- So: match everything at the start of the line until the word \"Error\" appears.\n",
    "\n",
    "Error\n",
    "\n",
    "- Literal word \"Error\".\n",
    "\n",
    "- This is the keyword we want to detect in each line.\n",
    "\n",
    ".* (after Error)\n",
    "\n",
    "- Again: match everything after the word \"Error\" until the end of the line."
   ]
  },
  {
   "cell_type": "markdown",
   "id": "35b22dbc-9197-4b9a-8673-e24d095984cc",
   "metadata": {},
   "source": [
    "#### Let's extract all words starting with capital letters"
   ]
  },
  {
   "cell_type": "code",
   "execution_count": 284,
   "id": "a5fc1aeb-fbde-4c26-a3da-2f13540c2483",
   "metadata": {},
   "outputs": [
    {
     "name": "stdout",
     "output_type": "stream",
     "text": [
      "Words starting with capital letters:  ['Hello', 'Contact', 'Error', 'File', 'Error', 'Back']\n"
     ]
    }
   ],
   "source": [
    "capi = re.findall(r'\\b[A-Z][A-Za-z]*\\b',content)\n",
    "print(\"Words starting with capital letters: \",capi)"
   ]
  },
  {
   "cell_type": "markdown",
   "id": "a7d23391-0691-49be-b468-069343376416",
   "metadata": {},
   "source": [
    "\\b\n",
    "\n",
    "- Word boundary → ensures the match starts at the beginning of a word.\n",
    "\n",
    "- Without this, it could match capital letters even inside words.\n",
    "\n",
    "[A-Z]\n",
    "\n",
    "- First character must be a capital letter (A to Z).\n",
    "\n",
    "[A-Za-z]*\n",
    "\n",
    "- After the first capital, match zero or more letters (uppercase or lowercase).\n",
    "\n",
    "- Sign * → allows variable-length words.\n",
    "\n",
    "\\b (at the end)\n",
    "\n",
    "- Word boundary → ensures the match ends at the end of a word."
   ]
  },
  {
   "cell_type": "markdown",
   "id": "1c15dd26-fe93-447b-ad85-0ba33da97e66",
   "metadata": {},
   "source": [
    "### Extracting useful information\n",
    "#### Let's Extract all emails from above file."
   ]
  },
  {
   "cell_type": "code",
   "execution_count": 290,
   "id": "d62a51a0-2ef7-4588-ac12-ea415e174aa6",
   "metadata": {},
   "outputs": [
    {
     "name": "stdout",
     "output_type": "stream",
     "text": [
      "Emails found:  ['qwe@ewq.com', 'plm@mlp.com']\n"
     ]
    }
   ],
   "source": [
    "import re\n",
    "\n",
    "eml = re.findall(r'[\\w._%+-]+@[\\w.-]+\\.\\w+',content)\n",
    "print(\"Emails found: \",eml)"
   ]
  },
  {
   "cell_type": "markdown",
   "id": "66f4deee-848a-4477-9b3f-5ae631ffaf9a",
   "metadata": {},
   "source": [
    "##### Let's understand what happened\n",
    "\n",
    "[\\w._%+-]+\n",
    "\n",
    "- \\w → matches any word character (letters, digits, _)\n",
    "- ._%+- → allows dot ., underscore _, percent %, plus +, hyphen -\n",
    "- + → one or more of the above\n",
    "- Matches the username part of the email (before @).\n",
    "- Example: \"john.doe\", \"user_123\", \"info+support\"\n",
    "\n",
    "@\n",
    "- Literal @ symbol that separates user and domain.\n",
    "\n",
    "[\\w.-]+\n",
    "- \\w → word characters\n",
    "- .- → dot . or hyphen -\n",
    "- Plus sign + → one or more\n",
    "- Matches the domain name part.\n",
    "- Example: \"gmail\", \"yahoo-mail\", \"university.edu\"\n",
    "\n",
    "\\.\\w+\n",
    "\n",
    "- \\. → literal dot .\n",
    "- \\w+ → one or more word characters\n",
    "- Matches the top-level domain (TLD).\n",
    "- Example: .com, .org, .in, .edu"
   ]
  },
  {
   "cell_type": "markdown",
   "id": "ec57a610-7f26-4a15-b961-eb24ef005119",
   "metadata": {},
   "source": [
    "#### Let's extract all phone numbers"
   ]
  },
  {
   "cell_type": "code",
   "execution_count": 256,
   "id": "37ded1a4-126c-4633-9e39-c9869e37be8c",
   "metadata": {},
   "outputs": [
    {
     "name": "stdout",
     "output_type": "stream",
     "text": [
      "Contact numebr:  ['+91-9876543210']\n"
     ]
    }
   ],
   "source": [
    "cont = re.findall(r'\\+91-\\d{10}', content)\n",
    "print(\"Contact numebr: \", cont)"
   ]
  },
  {
   "cell_type": "markdown",
   "id": "187bcfaf-d24b-405c-be35-17867bf58334",
   "metadata": {},
   "source": [
    "##### Let's understand what happened\n",
    "\n",
    "\\+\n",
    "\n",
    "- Plus sign + is a special regex character (quantifier: \"one or more\")\n",
    "\n",
    "- To match a literal plus sign (+), we escape it with \\\\\n",
    "\n",
    "- So \\+ matches the actual “+” in +91\n",
    "\n",
    "91-\n",
    "\n",
    "- Matches the literal digits 91 followed by a hyphen -\n",
    "\n",
    "- Together: +91-\n",
    "\n",
    "\\d{10}\n",
    "\n",
    "- \\d → digit (0–9)\n",
    "\n",
    "- {10} → exactly 10 digits. So this part matches any 10-digit phone number"
   ]
  },
  {
   "cell_type": "markdown",
   "id": "15ffc2a2-d40d-4e50-a82e-218d95dacb20",
   "metadata": {},
   "source": [
    "### Practice exercises\n",
    "Use regex to extract the following from the `refile.txt` file:\n",
    "1. All words ending with `ing`.\n",
    "2. All domains (part after `@`) from the emails.\n",
    "3. All lines that start with `'Hello'`.\n",
    "4. Replace all emails with `'[EMAIL]'`."
   ]
  },
  {
   "cell_type": "markdown",
   "id": "af504b53-df42-4b97-be60-e9892b7a5cd2",
   "metadata": {},
   "source": [
    "## Part 6: Retrieving Information from an HTML File using Regex\n",
    "\n",
    "Although libraries like **BeautifulSoup** are best for parsing HTML, \n",
    "regex can be useful for:\n",
    "- Quick extraction of patterns (like emails or links)\n",
    "- Log analysis\n",
    "- Simple scraping tasks"
   ]
  },
  {
   "cell_type": "code",
   "execution_count": 314,
   "id": "563b26d0-f8dd-4419-a567-f2523a43699e",
   "metadata": {},
   "outputs": [],
   "source": [
    "import re \n",
    "my_site = \"\"\"\n",
    "<html>\n",
    "<head>\n",
    "<title>Welcome to My Website</title>\n",
    "</head>\n",
    "<body>\n",
    "<h1>Main Heading</h1>\n",
    "<p>Contact us at support@example.com</p>\n",
    "<a href=\"https://example.com\">Visit Example</a>\n",
    "<a href=\"https://college.edu\">College Website</a>\n",
    "<h2>Subheading</h2>\n",
    "<p>Python is powerful!</p>\n",
    "</body>\n",
    "</html>\n",
    "\"\"\"\n",
    "\n",
    "with open(\"ws.html\", \"w\") as f:\n",
    "    f.write(my_site)"
   ]
  },
  {
   "cell_type": "markdown",
   "id": "4d24fada-154f-46e1-92bc-601fb0c877af",
   "metadata": {},
   "source": [
    "### 23 Reading HTML content"
   ]
  },
  {
   "cell_type": "code",
   "execution_count": 319,
   "id": "28f3d1b6-937c-4ee3-b91c-643c81e985b5",
   "metadata": {},
   "outputs": [
    {
     "name": "stdout",
     "output_type": "stream",
     "text": [
      "\n",
      "<html>\n",
      "<head>\n",
      "<title>Welcome to My Website</title>\n",
      "</head>\n",
      "<body>\n",
      "<h1>Main Heading</h1>\n",
      "<p>Contact us at support@example.com</p>\n",
      "<a href=\"https://example.com\">Visit Example</a>\n",
      "<a href=\"https://college.edu\">College Website</a>\n",
      "<h2>Subheading</h2>\n",
      "<p>Python is powerful!</p>\n",
      "</body>\n",
      "</html>\n",
      "\n"
     ]
    }
   ],
   "source": [
    "with open(\"ws.html\", \"r\") as f:\n",
    "    html_content = f.read()\n",
    "\n",
    "print(html_content)"
   ]
  },
  {
   "cell_type": "markdown",
   "id": "cc40e3a0-b7e3-41ca-9f93-cdfb827d823b",
   "metadata": {},
   "source": [
    "### 24 Using regex to extract:"
   ]
  },
  {
   "cell_type": "markdown",
   "id": "d29c24aa-f81a-4ff9-87f9-e8034bee45fe",
   "metadata": {},
   "source": [
    "#### Extract titles"
   ]
  },
  {
   "cell_type": "code",
   "execution_count": 329,
   "id": "a02705c2-7e4b-48d2-be4a-c6c1d4f746c8",
   "metadata": {},
   "outputs": [
    {
     "name": "stdout",
     "output_type": "stream",
     "text": [
      "Page Title: ['Welcome to My Website']\n"
     ]
    }
   ],
   "source": [
    "title = re.findall(r'<title>(.*?)</title>', html_content)\n",
    "print(\"Page Title:\", title)"
   ]
  },
  {
   "cell_type": "markdown",
   "id": "013f963f-6758-4d60-924d-9baf91ecfa8c",
   "metadata": {},
   "source": [
    "##### Tag title\n",
    "\n",
    "- Matches the opening title tag literally.\n",
    "\n",
    "##### (.*?)\n",
    "\n",
    "\n",
    "- . → matches any character (except newline by default).\n",
    "\n",
    "\n",
    "- Sign * → zero or more occurrences.\n",
    "\n",
    "\n",
    "- ? → makes it non-greedy (smallest possible match).\n",
    "\n",
    "\n",
    "- Wrapped in () → capture group → extracts only the content between <title> and </title>.\n",
    "\n",
    "\n",
    "##### Tag /title\n",
    "\n",
    "\n",
    "- Matches the closing </title> tag literally."
   ]
  },
  {
   "cell_type": "markdown",
   "id": "302315f5-3799-48e7-84be-7f1aa92abe66",
   "metadata": {},
   "source": [
    "#### Headings\n"
   ]
  },
  {
   "cell_type": "code",
   "execution_count": 331,
   "id": "523d1d57-febb-4d18-8b44-83c59ff010eb",
   "metadata": {},
   "outputs": [
    {
     "name": "stdout",
     "output_type": "stream",
     "text": [
      "Headings: ['Main Heading', 'Subheading']\n"
     ]
    }
   ],
   "source": [
    "headings = re.findall(r'<h[1-6]>(.*?)</h[1-6]>', html_content)\n",
    "print(\"Headings:\", headings)"
   ]
  },
  {
   "cell_type": "markdown",
   "id": "5f8d9202-adf9-4f8f-8350-53ff130a9987",
   "metadata": {},
   "source": [
    "##### Tag <h[1-6]>\n",
    "\n",
    "- Matches any opening heading tag from h1 tag to h6 tag.\n",
    "\n",
    "- [1-6] → means \"any digit between 1 and 6\".\n",
    "\n",
    "##### (.*?)\n",
    "\n",
    "- Captures the text inside the heading.\n",
    "\n",
    "- . → any character\n",
    "\n",
    "- Sign * → zero or more\n",
    "\n",
    "- ? → non-greedy (smallest match).\n",
    "\n",
    "##### Tag /h[1-6]\n",
    "\n",
    "- Matches the corresponding closing heading tag (/h1 … /h6)."
   ]
  },
  {
   "cell_type": "markdown",
   "id": "9ed3f2fc-1bae-48d2-8571-5f4786404596",
   "metadata": {},
   "source": [
    "#### Hyperlinks"
   ]
  },
  {
   "cell_type": "code",
   "execution_count": 333,
   "id": "d5629d1a-0178-46f3-ad1c-12f3d46840c5",
   "metadata": {},
   "outputs": [
    {
     "name": "stdout",
     "output_type": "stream",
     "text": [
      "Hyperlinks: ['https://example.com', 'https://college.edu']\n"
     ]
    }
   ],
   "source": [
    "links = re.findall(r'href=\"(.*?)\"', html_content)\n",
    "print(\"Hyperlinks:\", links)"
   ]
  },
  {
   "cell_type": "markdown",
   "id": "322d5097-e8aa-4fce-abef-b42b85a6346f",
   "metadata": {},
   "source": [
    "#### href=\"\n",
    "\n",
    "- Matches the literal text href=\" that starts a link inside an <a> tag.\n",
    "\n",
    "#### (.*?)\n",
    "\n",
    "- Captures the actual URL inside the quotes.\n",
    "\n",
    "- Sign . → any character\n",
    "\n",
    "- Sign * → zero or more\n",
    "\n",
    "- ? → non-greedy (stops at the first \")\n",
    "\n",
    "#### \"\n",
    "\n",
    "- Matches the closing quote of the hyperlink."
   ]
  },
  {
   "cell_type": "markdown",
   "id": "7155fc32-95db-451c-be71-e35585c32dd2",
   "metadata": {},
   "source": [
    "#### Emails"
   ]
  },
  {
   "cell_type": "code",
   "execution_count": 343,
   "id": "ab1a38ea-396e-4d4f-9c48-ffa6caa7c873",
   "metadata": {},
   "outputs": [
    {
     "name": "stdout",
     "output_type": "stream",
     "text": [
      "Emails: ['support@example.com']\n"
     ]
    }
   ],
   "source": [
    "emails = re.findall(r'[\\w._%+-]+@[\\w.-]+\\.\\w+', html_content)\n",
    "print(\"Emails:\", emails)"
   ]
  },
  {
   "cell_type": "markdown",
   "id": "4c3a12b3-2e89-460c-85ec-0f81f52b30ba",
   "metadata": {},
   "source": [
    "[\\w._%+-]+\n",
    "\n",
    "- \\w → any letter, digit, or underscore ([A-Za-z0-9_])\n",
    "\n",
    "- ._%+- → allows ., _, %, +, - inside email names\n",
    "\n",
    "- Sign + → one or more of these characters\n",
    "\n",
    "- Example matches: support, john.doe, user_123\n",
    "\n",
    "@\n",
    "\n",
    "- Literal @ symbol separating username and domain.\n",
    "\n",
    "[\\w.-]+\n",
    "\n",
    "- Domain name part (like example or college).\n",
    "\n",
    "- Allows letters, numbers, dots, and hyphens.\n",
    "\n",
    "\\.\\w+\n",
    "\n",
    "- \\. → literal dot before domain extension.\n",
    "\n",
    "- \\w+ → one or more word characters (like com, edu, org)"
   ]
  },
  {
   "cell_type": "markdown",
   "id": "fa777364-9ca8-491e-bc59-d293f2064e1f",
   "metadata": {},
   "source": [
    "### 25 Practice exercises\n",
    "1. Extract all paragraph (`<p> ... </p>`) text from the HTML.\n",
    "2. Find all `h2` headings only.\n",
    "3. Extract only `.edu` links from the HTML.\n",
    "4. Replace all emails with `[HIDDEN_EMAIL]`."
   ]
  },
  {
   "cell_type": "markdown",
   "id": "6d64a984-681d-4b8b-8f1b-202b9931a1c7",
   "metadata": {},
   "source": [
    "# Thank You"
   ]
  }
 ],
 "metadata": {
  "kernelspec": {
   "display_name": "Python 3 (ipykernel)",
   "language": "python",
   "name": "python3"
  },
  "language_info": {
   "codemirror_mode": {
    "name": "ipython",
    "version": 3
   },
   "file_extension": ".py",
   "mimetype": "text/x-python",
   "name": "python",
   "nbconvert_exporter": "python",
   "pygments_lexer": "ipython3",
   "version": "3.12.7"
  }
 },
 "nbformat": 4,
 "nbformat_minor": 5
}
