{
 "cells": [
  {
   "cell_type": "markdown",
   "id": "a01c25cb-62a1-4c1e-a462-457bad200fde",
   "metadata": {},
   "source": [
    "# Date and Time in Python\n",
    "- Python provides powerful libraries like datetime, time, and calendar for handling date and time.\n",
    "- These are widely used in logging, scheduling, timestamping, automation, data analysis, and system monitoring.\n",
    "  - **Logging** means recording events and activities that happen when a program runs.\n",
    "  - **Scheduling** is planning tasks to be executed at a specific time.\n",
    "  - Adding a date and time label (**timestamp**) to data or files.\n",
    "  - **Automation** is making computers perform tasks without human intervention.\n",
    "  - Working with time series data (data with date/time) to find patterns and trends (When we need to **analyse data**).\n",
    "  - **System monitoring** means observing CPU, memory, or services over time.\n",
    "\n",
    "##### Here We are going to explore:\n",
    "  1. Getting Current Date and Time\n",
    "  2. Combining Date and Time\n",
    "  3. Formatting Dates and Times\n",
    "  4. Finding Durations using timedelta\n",
    "  5. Comparing Two Dates\n",
    "  6. Sorting Dates\n",
    "  7. Stopping Execution Temporarily\n",
    "  8. Measuring Time Taken by a Program\n",
    "  9. Using calendar Module"
   ]
  },
  {
   "cell_type": "markdown",
   "id": "bd5217e3-0c8a-4bb4-b5fa-adf982f8686f",
   "metadata": {},
   "source": [
    "## 1. Getting Current Date and Time\n",
    "- datetime.now() → gives the current local date and time.\n",
    "- date.today() → gives only the current date.\n",
    "\n",
    "#### Applications:\n",
    "\n",
    "- Useful in logging events\n",
    "- Timestamps in databases\n",
    "- Monitoring transactions, etc."
   ]
  },
  {
   "cell_type": "code",
   "execution_count": 43,
   "id": "dba68f98-c8bc-44b6-89ef-081bcce707c1",
   "metadata": {},
   "outputs": [],
   "source": [
    "from datetime import datetime"
   ]
  },
  {
   "cell_type": "markdown",
   "id": "04508e24-21b8-4991-8add-3eda82bc14ec",
   "metadata": {},
   "source": [
    "##### Current date and time"
   ]
  },
  {
   "cell_type": "code",
   "execution_count": 46,
   "id": "9326bdac-503e-4c72-8141-cc9d1d5a963d",
   "metadata": {},
   "outputs": [
    {
     "name": "stdout",
     "output_type": "stream",
     "text": [
      "Current Date and Time:  2025-09-05 15:34:13.883437\n"
     ]
    }
   ],
   "source": [
    "now = datetime.now()\n",
    "print(\"Current Date and Time: \", now)"
   ]
  },
  {
   "cell_type": "markdown",
   "id": "33ab3b89-44d2-44e3-83a8-b94211a34b05",
   "metadata": {},
   "source": [
    "##### Current date"
   ]
  },
  {
   "cell_type": "code",
   "execution_count": 80,
   "id": "2ab1956a-f4cc-4f61-bcfb-7d0bf63e7cbf",
   "metadata": {},
   "outputs": [
    {
     "name": "stdout",
     "output_type": "stream",
     "text": [
      "Today's Date:  2025-09-07\n"
     ]
    }
   ],
   "source": [
    "from datetime import date\n",
    "today = date.today()\n",
    "print(\"Today's Date: \",today)"
   ]
  },
  {
   "cell_type": "markdown",
   "id": "03c8f506-bf0d-4d55-ad83-5b7ea32b2ee8",
   "metadata": {},
   "source": [
    "## 2. Combining Date and Time\n",
    "We can create a datetime object manually by combining date and time.\n",
    "#### Application\n",
    "- Useful for event scheduling\n",
    "  - e.g., meetings at a specific date and time"
   ]
  },
  {
   "cell_type": "code",
   "execution_count": 82,
   "id": "b5f9c4c5-cae2-4677-bc3e-5091776062b4",
   "metadata": {},
   "outputs": [
    {
     "name": "stdout",
     "output_type": "stream",
     "text": [
      "Combined Date & Time:  2025-09-05 15:30:00\n"
     ]
    }
   ],
   "source": [
    "from datetime import datetime, date, time\n",
    "d = date(2025, 9, 5)\n",
    "t = time(15,30,0)\n",
    "dt = datetime.combine(d,t)\n",
    "\n",
    "print(\"Combined Date & Time: \", dt)"
   ]
  },
  {
   "cell_type": "markdown",
   "id": "40b9d979-ba46-4c59-b72e-381e12b4e0a4",
   "metadata": {},
   "source": [
    "## 3. Formatting Dates and Times\n",
    "- strftime() → format datetime into strings.\n",
    "- strptime() → parse strings into datetime.\n",
    "- Applications:\n",
    "  - Formatting timestamps for\n",
    "    - user interfaces,\n",
    "    - reports,\n",
    "    - filenames, etc\n",
    "\n",
    "#### strftime() – Format datetime into strings\n",
    "- Converts date/time into human-readable format (e.g., \"05-Sep-2025\").\n",
    "- Used for displaying dates in reports, logs, or UI.\n",
    "- Allows custom formatting (e.g., YYYY/MM/DD, DD-MM-YYYY).\n",
    "- Useful when saving filenames with timestamps (e.g., backup_20250905.txt).\n",
    "- Standardizes output across different regions/time zones.\n",
    "##### Applications:\n",
    "- Printing user-friendly dates in receipts, bills, and invoices.\n",
    "- Formatting logs with readable timestamps.\n",
    "- Exporting data with date-based filenames.\n",
    "\n",
    "## strptime() – Parse strings into datetime\n",
    "- Converts string dates back into datetime objects for computation.\n",
    "- Useful for reading user input (e.g., \"05-09-2025\").\n",
    "- Allows validation of date strings against a format.\n",
    "- Enables performing operations like comparison, sorting, or adding days.\n",
    "- Helps in data analysis when dates come as text (CSV/Excel).\n",
    "##### Applications:\n",
    "- Converting text-based logs into datetime for analysis.\n",
    "- Processing user-entered birthdates in forms.\n",
    "- Reading time-stamped data (e.g., \"2025-09-05 15:30:00\") from files."
   ]
  },
  {
   "cell_type": "code",
   "execution_count": 84,
   "id": "a9ea76a2-5a1e-46b1-8767-3b8ab6263e2f",
   "metadata": {},
   "outputs": [
    {
     "name": "stdout",
     "output_type": "stream",
     "text": [
      "Current date and time is  2025-09-07 21:12:01.502083\n",
      "Formatted DateTime:  Date: 07/09/2025 Time: 21:12:01\n"
     ]
    }
   ],
   "source": [
    "from datetime import datetime\n",
    "\n",
    "now = datetime.now()\n",
    "print(\"Current date and time is \", now)\n",
    "\n",
    "# Formatting\n",
    "fmt = now.strftime(\"Date: %d/%m/%Y Time: %H:%M:%S\")\n",
    "print(\"Formatted DateTime: \", fmt)\n",
    "\n",
    "# Parsing back string to datetime\n",
    "prs = datetime.strptime(\"05-09-2025 15:30:00\", \"%d-%m-%Y %H:%M:%S\")    # do not use / You should use - only"
   ]
  },
  {
   "cell_type": "markdown",
   "id": "46aac2d7-ecaf-4239-a764-ff462171320a",
   "metadata": {},
   "source": [
    "## 4. Finding Durations using timedelta\n",
    "- Timedelta represents the difference between two dates/times.\n",
    "#### Application\n",
    "- Useful for due dates,\n",
    "- Deadlines,\n",
    "- age calculation,\n",
    "- countdowns.\n",
    "\n",
    "### What is timedelta?\n",
    "- timedelta is a **class** in Python’s datetime module.\n",
    "- It represents the difference (duration) between two dates or times.\n",
    "- The result of subtracting one datetime from another is always a timedelta object.\n",
    "\n",
    "### Why is it used?\n",
    "- To add or subtract days, hours, minutes, seconds from a datetime.\n",
    "- To measure duration (how much time has passed between two events).\n",
    "- To perform date arithmetic (e.g., calculate deadlines, countdowns).\n",
    "\n",
    "### Components of timedelta\n",
    "- A timedelta object can store:\n",
    "  - days\n",
    "  - seconds\n",
    "  - microseconds\n",
    "- Example: timedelta ( days=2, hours=5, minutes=30 )"
   ]
  },
  {
   "cell_type": "code",
   "execution_count": 1,
   "id": "638c01ee-b188-41a1-87d1-0119b121258d",
   "metadata": {},
   "outputs": [
    {
     "name": "stdout",
     "output_type": "stream",
     "text": [
      "Today:  2025-09-07 18:13:19.271951\n",
      "7 Days later  2025-09-14 18:13:19.271951\n",
      "Duration:  7 days, 0:00:00\n"
     ]
    }
   ],
   "source": [
    "from datetime import datetime, timedelta\n",
    "\n",
    "today = datetime.now()\n",
    "future = today + timedelta(days=7)\n",
    "\n",
    "print(\"Today: \", today)\n",
    "print(\"7 Days later \", future)\n",
    "\n",
    "duration = future - today\n",
    "print(\"Duration: \", durat)"
   ]
  },
  {
   "cell_type": "markdown",
   "id": "3df33f89-c13a-4066-91ee-ebde016a239e",
   "metadata": {},
   "source": [
    "## 5. Comparing Two Dates\n",
    "- We can compare dates directly using <, >, ==\n",
    "- Useful for validations\n",
    "- Example:\n",
    "  - subscription expiry\n",
    "  - deadline checks, etc"
   ]
  },
  {
   "cell_type": "code",
   "execution_count": 15,
   "id": "713e5253-f70b-41d7-afe1-1866f5e28f6f",
   "metadata": {},
   "outputs": [
    {
     "name": "stdout",
     "output_type": "stream",
     "text": [
      "d1 comes before d2\n"
     ]
    }
   ],
   "source": [
    "from datetime import date\n",
    "\n",
    "d1 = date(2025, 9, 14)\n",
    "d2 = date(2025, 9, 25)\n",
    "\n",
    "if d1<d2:\n",
    "    print(\"d1 comes before d2\")\n",
    "else:\n",
    "    print(\"d1 comes after or same as d2\")"
   ]
  },
  {
   "cell_type": "markdown",
   "id": "0dee70c7-6524-4e73-9ffe-0ea4b8ad97be",
   "metadata": {},
   "source": [
    "## 6. Sorting Dates\n",
    "- A list of dates can be sorted directly using Python’s sorted().\n",
    "- Useful in arranging \n",
    "  - events, \n",
    "  - logs, \n",
    "  - transaction records."
   ]
  },
  {
   "cell_type": "code",
   "execution_count": 20,
   "id": "8e182e11-d6f8-4bf1-a360-202fa4473942",
   "metadata": {},
   "outputs": [
    {
     "name": "stdout",
     "output_type": "stream",
     "text": [
      "Sorted dates  [datetime.date(2025, 3, 19), datetime.date(2025, 5, 13), datetime.date(2025, 8, 15), datetime.date(2025, 11, 25)]\n"
     ]
    }
   ],
   "source": [
    "from datetime import date\n",
    "\n",
    "d = [date(2025, 8, 15),date(2025, 11, 25),date(2025, 3, 19),date(2025, 5, 13)]\n",
    "srt = sorted(d)\n",
    "\n",
    "print(\"Sorted dates \", srt)"
   ]
  },
  {
   "cell_type": "markdown",
   "id": "96b007f3-79d4-4533-aa96-2855d9885ce7",
   "metadata": {},
   "source": [
    "## 7. Stopping Execution Temporarily\n",
    "- time.sleep(seconds) → pauses execution for given seconds.\n",
    "- Useful for rate-limiting API calls, waiting before retry, showing progress bar."
   ]
  },
  {
   "cell_type": "code",
   "execution_count": 29,
   "id": "4cae9202-d9f2-4049-920b-e22cc7333a87",
   "metadata": {},
   "outputs": [
    {
     "name": "stdout",
     "output_type": "stream",
     "text": [
      "Start\n",
      "End after 3 seconds\n"
     ]
    }
   ],
   "source": [
    "import time\n",
    "\n",
    "print(\"Start\")\n",
    "time.sleep(3)     \n",
    "print(\"End after 3 seconds\")"
   ]
  },
  {
   "cell_type": "code",
   "execution_count": 37,
   "id": "e9688229-486f-4106-abea-b49e41f28181",
   "metadata": {},
   "outputs": [
    {
     "name": "stdout",
     "output_type": "stream",
     "text": [
      "Start\n",
      "Counting: 1\n",
      "Counting: 2\n",
      "Counting: 3\n",
      "Counting: 4\n",
      "Counting: 5\n"
     ]
    }
   ],
   "source": [
    "import time\n",
    "\n",
    "print(\"Start\")\n",
    "\n",
    "for i in range(0,5):\n",
    "    print(\"Counting:\", i+1)\n",
    "    time.sleep(1)"
   ]
  },
  {
   "cell_type": "markdown",
   "id": "722361d4-3220-4875-be24-8c464584a9b5",
   "metadata": {},
   "source": [
    "## 8. Measuring Time Taken by a Program\n",
    "- time.time() or time.perf_counter() measure elapsed time.\n",
    "- Useful for performance testing and benchmarking."
   ]
  },
  {
   "cell_type": "code",
   "execution_count": 44,
   "id": "5b7da936-a707-492e-8885-8a99304fcace",
   "metadata": {},
   "outputs": [
    {
     "name": "stdout",
     "output_type": "stream",
     "text": [
      "Task done: 499999500000\n",
      "Time taken: 0.025928020477294922 seconds\n"
     ]
    }
   ],
   "source": [
    "import time\n",
    "\n",
    "start = time.time()\n",
    "\n",
    "task = sum(range(1000000))\n",
    "print(\"Task done:\", task)\n",
    "\n",
    "end = time.time()\n",
    "\n",
    "print(\"Time taken:\", end-start, \"seconds\")"
   ]
  },
  {
   "cell_type": "markdown",
   "id": "39c2f693-5d0f-4316-b2a5-fbe439406ad5",
   "metadata": {},
   "source": [
    "## 9. calendar Module\n",
    "- The calendar module allows you to output calendars, check leap years, find weekdays, and more.\n",
    "- It helps when you need to deal with months and years in date-related programs.\n",
    "\n",
    "#### Why is it used?\n",
    "\n",
    "- To print monthly or yearly calendars in programs.\n",
    "- To check leap years (e.g., Feb has 29 days in leap years).\n",
    "- To find the weekday of a given date (e.g., 5th Sept 2025 is Friday).\n",
    "- To support scheduling systems and date validation.\n",
    "\n",
    "#### Applications of calendar Module (with real-life examples)\n",
    "- Event Scheduling\n",
    "  - Example: Booking apps use it to display available dates.\n",
    "- School/College Timetable\n",
    "  - Example: Generate monthly calendar for exams.\n",
    "- Attendance Systems\n",
    "  - Example: Checking working days and weekends.\n",
    "- Finance / Billing\n",
    "  - Example: Checking if a due date falls on a weekend.\n",
    "- Leap Year Handling\n",
    "  - Example: Payroll systems must handle Feb 29 correctly."
   ]
  },
  {
   "cell_type": "markdown",
   "id": "ccfdadde-2359-4675-8e82-4ad8f76bb6a4",
   "metadata": {},
   "source": [
    "**Print a month calendar**"
   ]
  },
  {
   "cell_type": "code",
   "execution_count": 53,
   "id": "8e84db68-c5c2-4f54-9295-f57fe0989c5a",
   "metadata": {},
   "outputs": [
    {
     "name": "stdout",
     "output_type": "stream",
     "text": [
      "   September 2025\n",
      "Mo Tu We Th Fr Sa Su\n",
      " 1  2  3  4  5  6  7\n",
      " 8  9 10 11 12 13 14\n",
      "15 16 17 18 19 20 21\n",
      "22 23 24 25 26 27 28\n",
      "29 30\n",
      "\n"
     ]
    }
   ],
   "source": [
    "import calendar\n",
    "print(calendar.month(2025,9))"
   ]
  },
  {
   "cell_type": "markdown",
   "id": "42e50fd1-e3b1-4ba9-87aa-476fac43559b",
   "metadata": {},
   "source": [
    "**Print an entire year**"
   ]
  },
  {
   "cell_type": "code",
   "execution_count": 56,
   "id": "09af9326-46d1-4f48-b965-72d548b30753",
   "metadata": {},
   "outputs": [
    {
     "name": "stdout",
     "output_type": "stream",
     "text": [
      "                                  2025\n",
      "\n",
      "      January                   February                   March\n",
      "Mo Tu We Th Fr Sa Su      Mo Tu We Th Fr Sa Su      Mo Tu We Th Fr Sa Su\n",
      "       1  2  3  4  5                      1  2                      1  2\n",
      " 6  7  8  9 10 11 12       3  4  5  6  7  8  9       3  4  5  6  7  8  9\n",
      "13 14 15 16 17 18 19      10 11 12 13 14 15 16      10 11 12 13 14 15 16\n",
      "20 21 22 23 24 25 26      17 18 19 20 21 22 23      17 18 19 20 21 22 23\n",
      "27 28 29 30 31            24 25 26 27 28            24 25 26 27 28 29 30\n",
      "                                                    31\n",
      "\n",
      "       April                      May                       June\n",
      "Mo Tu We Th Fr Sa Su      Mo Tu We Th Fr Sa Su      Mo Tu We Th Fr Sa Su\n",
      "    1  2  3  4  5  6                1  2  3  4                         1\n",
      " 7  8  9 10 11 12 13       5  6  7  8  9 10 11       2  3  4  5  6  7  8\n",
      "14 15 16 17 18 19 20      12 13 14 15 16 17 18       9 10 11 12 13 14 15\n",
      "21 22 23 24 25 26 27      19 20 21 22 23 24 25      16 17 18 19 20 21 22\n",
      "28 29 30                  26 27 28 29 30 31         23 24 25 26 27 28 29\n",
      "                                                    30\n",
      "\n",
      "        July                     August                  September\n",
      "Mo Tu We Th Fr Sa Su      Mo Tu We Th Fr Sa Su      Mo Tu We Th Fr Sa Su\n",
      "    1  2  3  4  5  6                   1  2  3       1  2  3  4  5  6  7\n",
      " 7  8  9 10 11 12 13       4  5  6  7  8  9 10       8  9 10 11 12 13 14\n",
      "14 15 16 17 18 19 20      11 12 13 14 15 16 17      15 16 17 18 19 20 21\n",
      "21 22 23 24 25 26 27      18 19 20 21 22 23 24      22 23 24 25 26 27 28\n",
      "28 29 30 31               25 26 27 28 29 30 31      29 30\n",
      "\n",
      "      October                   November                  December\n",
      "Mo Tu We Th Fr Sa Su      Mo Tu We Th Fr Sa Su      Mo Tu We Th Fr Sa Su\n",
      "       1  2  3  4  5                      1  2       1  2  3  4  5  6  7\n",
      " 6  7  8  9 10 11 12       3  4  5  6  7  8  9       8  9 10 11 12 13 14\n",
      "13 14 15 16 17 18 19      10 11 12 13 14 15 16      15 16 17 18 19 20 21\n",
      "20 21 22 23 24 25 26      17 18 19 20 21 22 23      22 23 24 25 26 27 28\n",
      "27 28 29 30 31            24 25 26 27 28 29 30      29 30 31\n",
      "\n"
     ]
    }
   ],
   "source": [
    "import calendar\n",
    "print(calendar.calendar(2025)) "
   ]
  },
  {
   "cell_type": "markdown",
   "id": "ee41ee4c-3e39-4d9c-bdc6-1ffb1813d871",
   "metadata": {},
   "source": [
    "**Check if a year is leap year**"
   ]
  },
  {
   "cell_type": "code",
   "execution_count": 59,
   "id": "26521cc0-b039-4d02-8d2f-95ac63fc465d",
   "metadata": {},
   "outputs": [
    {
     "name": "stdout",
     "output_type": "stream",
     "text": [
      "Is 2024 a leap year? True\n",
      "Is 2025 a leap year? False\n"
     ]
    }
   ],
   "source": [
    "import calendar\n",
    "\n",
    "print(\"Is 2024 a leap year?\", calendar.isleap(2024))\n",
    "print(\"Is 2025 a leap year?\", calendar.isleap(2025))"
   ]
  },
  {
   "cell_type": "markdown",
   "id": "7d02504c-b440-46a7-999a-0a685a70c49c",
   "metadata": {},
   "source": [
    "**Find the weekday of a date** \n",
    "\n",
    "calendar.weekday(year, month, day) returns the day of the week as an integer.\n",
    "\n",
    "The mapping is:\n",
    "- 0=Monday\n",
    "- 1=Tuesday\n",
    "- 2=Wednessday\n",
    "- 3=Thursday\n",
    "- 4=Friday\n",
    "- 5=Saturday\n",
    "- 6=Sunday\n",
    "\n",
    "**Practical Life Uses**\n",
    "- Check if a date is a weekend\n",
    "    - Example: Avoid scheduling meetings on Sunday\n",
    "- Exam scheduling\n",
    "    - Example: Don’t put exams on Sunday\n",
    "- Banking/Finance apps\n",
    "    - Example: Skip processing if date is Saturday/Sunday\n",
    "- Event management\n",
    "    - Example: Ensure event falls on a Friday or Saturday"
   ]
  },
  {
   "cell_type": "code",
   "execution_count": 61,
   "id": "1f9dceb4-7b5a-4b3a-83ab-b48189cdec9a",
   "metadata": {},
   "outputs": [
    {
     "name": "stdout",
     "output_type": "stream",
     "text": [
      "5th sep 2025's weekday number is 4\n"
     ]
    }
   ],
   "source": [
    "import calendar\n",
    "weekday = calendar.weekday(2025,9,5)   # (0=Monday, 6=Sunday)\n",
    "print(\"5th sep 2025's weekday number is\",weekday)"
   ]
  },
  {
   "cell_type": "markdown",
   "id": "8637b5ae-ba1d-4606-bbe6-900fc90b09f3",
   "metadata": {},
   "source": [
    "**Get month range (start weekday, number of days)**"
   ]
  },
  {
   "cell_type": "code",
   "execution_count": 72,
   "id": "b31a63d1-7f66-4c2d-955b-f6a64c5ff327",
   "metadata": {},
   "outputs": [
    {
     "name": "stdout",
     "output_type": "stream",
     "text": [
      "Starts on weekday: 5 and has 30 days\n"
     ]
    }
   ],
   "source": [
    "start_day, num_days = calendar.monthrange(2025, 11)\n",
    "print(\"Starts on weekday:\", start_day, \"and has\", num_days, \"days\")"
   ]
  },
  {
   "cell_type": "code",
   "execution_count": null,
   "id": "8de60b9d-bcef-48d9-acbf-5936fe43d211",
   "metadata": {},
   "outputs": [],
   "source": []
  }
 ],
 "metadata": {
  "kernelspec": {
   "display_name": "Python 3 (ipykernel)",
   "language": "python",
   "name": "python3"
  },
  "language_info": {
   "codemirror_mode": {
    "name": "ipython",
    "version": 3
   },
   "file_extension": ".py",
   "mimetype": "text/x-python",
   "name": "python",
   "nbconvert_exporter": "python",
   "pygments_lexer": "ipython3",
   "version": "3.12.7"
  }
 },
 "nbformat": 4,
 "nbformat_minor": 5
}
